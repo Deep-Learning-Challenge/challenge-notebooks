{
 "cells": [
  {
   "cell_type": "markdown",
   "metadata": {},
   "source": [
    "# Combine Models From Multiple Runs With Model Averaging Ensemble"
   ]
  },
  {
   "cell_type": "markdown",
   "metadata": {},
   "source": [
    "Deep learning neural network models are highly flexible nonlinear algorithms capable of learning a nearly infinite number of mapping functions. Frustration with this flexibility is the high variance in a final model. The same neural network model trained on the same dataset may nd one of many different possible good enough solutions each time it is run. In this tutorial, you will discover how to develop a model averaging ensemble in Keras to reduce the variance in a final model. Model averaging is an ensemble learning technique that reduces the variance in a final neural network model, sacrificing spread (and possibly better scores) in the model's performance for confidence in what performance to expect from the model. After completing this tutorial, you will know:\n",
    "\n",
    "* Model averaging is an ensemble learning technique that can be used to reduce the expected variance of deep learning neural network models.\n",
    "* How to implement model averaging in Keras for classification and regression predictive modeling problems.\n",
    "* How to work through a multiclass classification problem and use model averaging to reduce the variance of the final model."
   ]
  },
  {
   "cell_type": "markdown",
   "metadata": {},
   "source": [
    "## Model Averaging Ensemble"
   ]
  },
  {
   "cell_type": "markdown",
   "metadata": {},
   "source": [
    "Deep learning neural network models are nonlinear methods that learn via a stochastic training algorithm. This means that they are highly flexible, capable of learning complex relationships between variables and approximating any mapping function, given enough resources. A downside of this flexibility is that the models suffer high variance. This means that the models are highly dependent on the specific training data used to train the model and on the initial conditions (random initial weights) and serendipity during the training process. The result is a final model that makes different predictions each time the same model configuration is trained on the same dataset.\n",
    "\n",
    "This can be frustrating when training a final model to make predictions on new data, such as operationally or in a machine learning competition. The high variance of the approach can be addressed by training multiple models for the problem and combining their predictions. This approach is called model averaging and belongs to a family of techniques called ensemble learning."
   ]
  },
  {
   "cell_type": "markdown",
   "metadata": {},
   "source": [
    "## Ensembles in Keras"
   ]
  },
  {
   "cell_type": "markdown",
   "metadata": {},
   "source": [
    "The simplest way to develop a model averaging ensemble in Keras is to train multiple models on the same dataset then combine the predictions from each of the trained models."
   ]
  },
  {
   "cell_type": "markdown",
   "metadata": {},
   "source": [
    "### Train Multiple Models"
   ]
  },
  {
   "cell_type": "markdown",
   "metadata": {},
   "source": [
    "Training multiple models may be resource-intensive, depending on the size of the model and the size of the training data. You may have to train the models sequentially on the same hardware. For very large models, it may be worth training the models in parallel using cloud infrastructure\n",
    "such as Amazon Web Services.\n",
    "\n",
    "The number of models required for the ensemble may vary based on the complexity of the problem and model. A benefit of the approach is that you can continue creating models, adding them to the ensemble, and evaluating their impact on the performance by making predictions on a holdout test set. You can train the models sequentially for small models and keep them in memory for use in your experiment. For example:\n",
    "\n",
    "```\n",
    "...\n",
    "# train models and keep them in memory\n",
    "n_members = 10\n",
    "models = list()\n",
    "for _ in range(n_members):\n",
    "    # define and fit model\n",
    "    model = ...\n",
    "    \n",
    "    # store model in memory as ensemble member\n",
    "    models.add(models)\n",
    "...\n",
    "```"
   ]
  },
  {
   "cell_type": "markdown",
   "metadata": {},
   "source": [
    "For large models, perhaps trained on different hardware, you can save each model to a file.\n",
    "\n",
    "```\n",
    "...\n",
    "# train models and keep them to file\n",
    "n_members = 10\n",
    "for i in range(n_members):\n",
    "    # define and fit model\n",
    "    model = ...\n",
    "\n",
    "    # save model to file\n",
    "    filename = 'model_' + str(i + 1) + '.h5'\n",
    "    model.save(filename)\n",
    "    \n",
    "    print('Saved: %s' % filename)\n",
    "...\n",
    "```"
   ]
  },
  {
   "cell_type": "markdown",
   "metadata": {},
   "source": [
    "Models can then be loaded later. Small models can all be loaded into memory simultaneously, whereas very large models may have to be loaded one at a time to make a prediction, then later to have the predictions combined.\n",
    "\n",
    "```\n",
    "from tensorflow.keras.models import load_model\n",
    "...\n",
    "\n",
    "# load pre-trained ensemble members\n",
    "n_members = 10\n",
    "models = list()\n",
    "\n",
    "for i in range(n_members):\n",
    "    # load model\n",
    "    filename = 'model_' + str(i + 1) + '.h5'\n",
    "    model = load_model(filename)\n",
    "\n",
    "    # store in memory\n",
    "    models.append(model)\n",
    "...\n",
    "```"
   ]
  },
  {
   "cell_type": "markdown",
   "metadata": {},
   "source": [
    "### Combine Predictions"
   ]
  },
  {
   "cell_type": "markdown",
   "metadata": {},
   "source": [
    "Once the models have been prepared, each model can be used to predict, and the predictions can be combined. In a regression problem where each model predicts a real-valued output, the values can be collected, and the average is calculated.\n",
    "\n",
    "```\n",
    "...\n",
    "# make predictions\n",
    "yhats = [model.predict(testX) for model in models]\n",
    "yhats = array(yhats)\n",
    "\n",
    "# calculate average\n",
    "outcomes = mean(yhats)\n",
    "```"
   ]
  },
  {
   "cell_type": "markdown",
   "metadata": {},
   "source": [
    "In the case of a classification problem, there are two options: to combine the predicted class labels or to combine the predicted probabilities. The class labels can be combined by calculating the statistical mode (most frequent value), for example:\n",
    "\n",
    "```\n",
    "...\n",
    "# make predictions\n",
    "yhats = [model.predict_classes(testX) for model in models]\n",
    "yhats = array(yhats)\n",
    "\n",
    "# calculate mode\n",
    "outcomes, _ = mode(yhats)\n",
    "```"
   ]
  },
  {
   "cell_type": "markdown",
   "metadata": {},
   "source": [
    "A downside of this approach is that for small ensembles or problems with a large number of classes, the sample of predictions may not be large enough for the mode to be meaningful. A sigmoid activation function is used on the output layer in a binary classification problem, and the average of the predicted probabilities can be calculated much like a regression problem. In the case of a multiclass classification problem with more than two classes, a softmax activation function is used on the output layer, and the sum of the probabilities for each predicted class can be calculated before taking the argmax to get the class value, for example:\n",
    "\n",
    "```\n",
    "...\n",
    "# make predictions\n",
    "yhats = [model.predict(testX) for model in models]\n",
    "yhats = array(yhats)\n",
    "\n",
    "# sum across ensembles\n",
    "summed = numpy.sum(yhats, axis=0)\n",
    "\n",
    "# argmax across classes\n",
    "outcomes = argmax(summed, axis=1)\n",
    "```"
   ]
  },
  {
   "cell_type": "markdown",
   "metadata": {},
   "source": [
    "These approaches for combining predictions of Keras models will work just as well for Multilayer Perceptron, Convolutional, and Recurrent Neural Networks. Now that we know how to average predictions from multiple neural network models in Keras, let us work through a case study."
   ]
  },
  {
   "cell_type": "markdown",
   "metadata": {},
   "source": [
    "## Model Averaging Ensemble Case Study"
   ]
  },
  {
   "cell_type": "markdown",
   "metadata": {},
   "source": [
    "In this section, we will demonstrate how to use the model average ensemble to reduce the variance of an MLP on a simple multiclass classification problem. This example provides a template for applying the model average ensemble to your neural network for classification and regression problems."
   ]
  },
  {
   "cell_type": "markdown",
   "metadata": {},
   "source": [
    "### Multiclass Classification Problem"
   ]
  },
  {
   "cell_type": "markdown",
   "metadata": {},
   "source": [
    "We will use a small multiclass classification problem as the basis to demonstrate a model averaging ensemble. The scikit-learn class provides the `make_blobs()` function that can be used to create a multiclass classification problem with the prescribed number of samples, input variables, classes, and variance of samples within a class. We use this problem with 500 examples, with two input variables (to represent the x and y coordinates of the points) and a standard deviation of 2.0 for points within each group. We will use the same random state (seed for the pseudorandom number generator) to ensure that we always get the same 500 points."
   ]
  },
  {
   "cell_type": "code",
   "execution_count": 13,
   "metadata": {},
   "outputs": [],
   "source": [
    "from sklearn.datasets import make_blobs\n",
    "\n",
    "# generate 2d classification dataset\n",
    "X, y = make_blobs(n_samples=500, centers=3, n_features=2, cluster_std=2, random_state=2)"
   ]
  },
  {
   "cell_type": "markdown",
   "metadata": {},
   "source": [
    "The results are the input and output elements of a dataset that we can model. In order to get a feeling for the complexity of the problem, we can graph each point on a two-dimensional scatter plot and color each point by class value. The complete example is listed below."
   ]
  },
  {
   "cell_type": "code",
   "execution_count": 14,
   "metadata": {},
   "outputs": [
    {
     "data": {
      "image/png": "[encoded data removed]",
      "text/plain": [
       "<Figure size 432x288 with 1 Axes>"
      ]
     },
     "metadata": {
      "needs_background": "light"
     },
     "output_type": "display_data"
    }
   ],
   "source": [
    "# scatter plot of blobs dataset\n",
    "from sklearn.datasets import make_blobs\n",
    "from matplotlib import pyplot\n",
    "from numpy import where\n",
    "\n",
    "# generate 2d classification dataset\n",
    "X, y = make_blobs(n_samples=500, centers=3, n_features=2, cluster_std=2, random_state=2)\n",
    "\n",
    "# scatter plot for each class value\n",
    "for class_value in range(3):\n",
    "    # select indices of points with the class label\n",
    "    row_ix = where(y == class_value)\n",
    "\n",
    "    # scatter plot for points with a different color\n",
    "    pyplot.scatter(X[row_ix, 0], X[row_ix, 1])\n",
    "\n",
    "# show plot\n",
    "pyplot.show()"
   ]
  },
  {
   "cell_type": "markdown",
   "metadata": {},
   "source": [
    "Running the example creates a scatter plot of the entire dataset. We can see that the standard deviation of 2.0 means that the classes are not linearly separable (separable by a line), causing many ambiguous points. This is desirable because the problem is non-trivial and will allow a neural network model to find many different *good enough* candidate solutions resulting in a high variance."
   ]
  },
  {
   "cell_type": "markdown",
   "metadata": {},
   "source": [
    "### MLP Model for Multiclass Classification"
   ]
  },
  {
   "cell_type": "markdown",
   "metadata": {},
   "source": [
    "Now that we have defined a problem, we can define a model to address it. We will define a model that is perhaps under-constrained and not tuned to the problem. This is intentional to demonstrate the high variance of a neural network model seen on truly large and challenging supervised learning problems. \n",
    "\n",
    "The problem is a multiclass classification problem, and we will model it using a softmax activation function on the output layer. This means that the model will predict a vector with three elements with the probability that the sample belongs to each of the three classes. Therefore, the first step is to one-hot encode the class values."
   ]
  },
  {
   "cell_type": "code",
   "execution_count": 15,
   "metadata": {},
   "outputs": [],
   "source": [
    "from tensorflow.keras.utils import to_categorical\n",
    "\n",
    "y = to_categorical(y)"
   ]
  },
  {
   "cell_type": "markdown",
   "metadata": {},
   "source": [
    "Next, we must split the dataset into training and test sets. We will use the test set both to evaluate the model's performance and to plot its performance during training with a learning curve. We will use 30% of the data for training and 70% for the test set. This is an example of a challenging problem where we have more unlabeled examples than labeled ones."
   ]
  },
  {
   "cell_type": "code",
   "execution_count": 16,
   "metadata": {},
   "outputs": [],
   "source": [
    "# split into train and test\n",
    "n_train = int(0.3 * X.shape[0])\n",
    "\n",
    "trainX, testX = X[:n_train, :], X[n_train:, :]\n",
    "trainy, testy = y[:n_train], y[n_train:]"
   ]
  },
  {
   "cell_type": "markdown",
   "metadata": {},
   "source": [
    "Next, we can define and compile the model. The model will expect samples with two input variables. The model then has a single hidden layer with 15 nodes and a rectified linear activation function, an output layer with three nodes to predict the probability of each of the three classes, and a softmax activation function. Because the problem is multiclass, we will use the categorical cross-entropy loss function to optimize the model and the efficient Adam flavor of stochastic gradient descent."
   ]
  },
  {
   "cell_type": "code",
   "execution_count": 17,
   "metadata": {},
   "outputs": [],
   "source": [
    "from tensorflow.keras.models import Sequential\n",
    "from tensorflow.keras.layers import Dense\n",
    "\n",
    "# define model\n",
    "model = Sequential()\n",
    "model.add(Dense(15, input_dim=2, activation='relu'))\n",
    "model.add(Dense(3, activation='softmax'))\n",
    "model.compile(loss='categorical_crossentropy', optimizer='adam', metrics=['accuracy'])"
   ]
  },
  {
   "cell_type": "markdown",
   "metadata": {},
   "source": [
    "The model is fit for 200 training epochs, and we will evaluate each epoch on the test set, using the test set as a validation set."
   ]
  },
  {
   "cell_type": "code",
   "execution_count": 18,
   "metadata": {},
   "outputs": [
    {
     "name": "stdout",
     "output_type": "stream",
     "text": [
      "Epoch 1/200\n",
      "5/5 [==============================] - 2s 75ms/step - loss: 4.0664 - accuracy: 0.3722 - val_loss: 3.2036 - val_accuracy: 0.3686\n",
      "Epoch 2/200\n",
      "5/5 [==============================] - 0s 8ms/step - loss: 4.0946 - accuracy: 0.3443 - val_loss: 3.0335 - val_accuracy: 0.3771\n",
      "Epoch 3/200\n",
      "5/5 [==============================] - 0s 9ms/step - loss: 3.3914 - accuracy: 0.3530 - val_loss: 2.8710 - val_accuracy: 0.3914\n",
      "Epoch 4/200\n",
      "5/5 [==============================] - 0s 8ms/step - loss: 3.5402 - accuracy: 0.3487 - val_loss: 2.7128 - val_accuracy: 0.4029\n",
      "Epoch 5/200\n",
      "5/5 [==============================] - 0s 8ms/step - loss: 3.1425 - accuracy: 0.3726 - val_loss: 2.5581 - val_accuracy: 0.4086\n",
      "Epoch 6/200\n",
      "5/5 [==============================] - 0s 8ms/step - loss: 3.0461 - accuracy: 0.3593 - val_loss: 2.4102 - val_accuracy: 0.4143\n",
      "Epoch 7/200\n",
      "5/5 [==============================] - 0s 8ms/step - loss: 2.8757 - accuracy: 0.3961 - val_loss: 2.2662 - val_accuracy: 0.4229\n",
      "Epoch 8/200\n",
      "5/5 [==============================] - 0s 8ms/step - loss: 2.6732 - accuracy: 0.3705 - val_loss: 2.1281 - val_accuracy: 0.4286\n",
      "Epoch 9/200\n",
      "5/5 [==============================] - 0s 8ms/step - loss: 2.4366 - accuracy: 0.4014 - val_loss: 1.9965 - val_accuracy: 0.4286\n",
      "Epoch 10/200\n",
      "5/5 [==============================] - 0s 8ms/step - loss: 2.2774 - accuracy: 0.3806 - val_loss: 1.8729 - val_accuracy: 0.4314\n",
      "Epoch 11/200\n",
      "5/5 [==============================] - 0s 8ms/step - loss: 2.1691 - accuracy: 0.3967 - val_loss: 1.7563 - val_accuracy: 0.4371\n",
      "Epoch 12/200\n",
      "5/5 [==============================] - 0s 9ms/step - loss: 1.9024 - accuracy: 0.3820 - val_loss: 1.6472 - val_accuracy: 0.4343\n",
      "Epoch 13/200\n",
      "5/5 [==============================] - 0s 24ms/step - loss: 1.8185 - accuracy: 0.3846 - val_loss: 1.5437 - val_accuracy: 0.4343\n",
      "Epoch 14/200\n",
      "5/5 [==============================] - 0s 8ms/step - loss: 1.6730 - accuracy: 0.3968 - val_loss: 1.4482 - val_accuracy: 0.4229\n",
      "Epoch 15/200\n",
      "5/5 [==============================] - 0s 8ms/step - loss: 1.4897 - accuracy: 0.4361 - val_loss: 1.3638 - val_accuracy: 0.4086\n",
      "Epoch 16/200\n",
      "5/5 [==============================] - 0s 8ms/step - loss: 1.4252 - accuracy: 0.4017 - val_loss: 1.2855 - val_accuracy: 0.4400\n",
      "Epoch 17/200\n",
      "5/5 [==============================] - 0s 8ms/step - loss: 1.2269 - accuracy: 0.4474 - val_loss: 1.2197 - val_accuracy: 0.4600\n",
      "Epoch 18/200\n",
      "5/5 [==============================] - 0s 8ms/step - loss: 1.1568 - accuracy: 0.4592 - val_loss: 1.1643 - val_accuracy: 0.4514\n",
      "Epoch 19/200\n",
      "5/5 [==============================] - 0s 8ms/step - loss: 1.0110 - accuracy: 0.4768 - val_loss: 1.1176 - val_accuracy: 0.4771\n",
      "Epoch 20/200\n",
      "5/5 [==============================] - 0s 8ms/step - loss: 0.9975 - accuracy: 0.4835 - val_loss: 1.0789 - val_accuracy: 0.4743\n",
      "Epoch 21/200\n",
      "5/5 [==============================] - 0s 8ms/step - loss: 1.0052 - accuracy: 0.5026 - val_loss: 1.0466 - val_accuracy: 0.4886\n",
      "Epoch 22/200\n",
      "5/5 [==============================] - 0s 8ms/step - loss: 0.8440 - accuracy: 0.6061 - val_loss: 1.0213 - val_accuracy: 0.4943\n",
      "Epoch 23/200\n",
      "5/5 [==============================] - 0s 8ms/step - loss: 0.7947 - accuracy: 0.6625 - val_loss: 1.0005 - val_accuracy: 0.5171\n",
      "Epoch 24/200\n",
      "5/5 [==============================] - 0s 8ms/step - loss: 0.7424 - accuracy: 0.6634 - val_loss: 0.9835 - val_accuracy: 0.5286\n",
      "Epoch 25/200\n",
      "5/5 [==============================] - 0s 8ms/step - loss: 0.7599 - accuracy: 0.6914 - val_loss: 0.9687 - val_accuracy: 0.5571\n",
      "Epoch 26/200\n",
      "5/5 [==============================] - 0s 8ms/step - loss: 0.7525 - accuracy: 0.6663 - val_loss: 0.9546 - val_accuracy: 0.5600\n",
      "Epoch 27/200\n",
      "5/5 [==============================] - 0s 8ms/step - loss: 0.7215 - accuracy: 0.6628 - val_loss: 0.9434 - val_accuracy: 0.5629\n",
      "Epoch 28/200\n",
      "5/5 [==============================] - 0s 8ms/step - loss: 0.7023 - accuracy: 0.6662 - val_loss: 0.9343 - val_accuracy: 0.5771\n",
      "Epoch 29/200\n",
      "5/5 [==============================] - 0s 8ms/step - loss: 0.7254 - accuracy: 0.6699 - val_loss: 0.9256 - val_accuracy: 0.5800\n",
      "Epoch 30/200\n",
      "5/5 [==============================] - 0s 8ms/step - loss: 0.6963 - accuracy: 0.6986 - val_loss: 0.9179 - val_accuracy: 0.5829\n",
      "Epoch 31/200\n",
      "5/5 [==============================] - 0s 8ms/step - loss: 0.6229 - accuracy: 0.7420 - val_loss: 0.9118 - val_accuracy: 0.5857\n",
      "Epoch 32/200\n",
      "5/5 [==============================] - 0s 8ms/step - loss: 0.6534 - accuracy: 0.7260 - val_loss: 0.9059 - val_accuracy: 0.5800\n",
      "Epoch 33/200\n",
      "5/5 [==============================] - 0s 8ms/step - loss: 0.6627 - accuracy: 0.7060 - val_loss: 0.9003 - val_accuracy: 0.5914\n",
      "Epoch 34/200\n",
      "5/5 [==============================] - 0s 8ms/step - loss: 0.6628 - accuracy: 0.6948 - val_loss: 0.8956 - val_accuracy: 0.6029\n",
      "Epoch 35/200\n",
      "5/5 [==============================] - 0s 8ms/step - loss: 0.6686 - accuracy: 0.6726 - val_loss: 0.8915 - val_accuracy: 0.6029\n",
      "Epoch 36/200\n",
      "5/5 [==============================] - 0s 8ms/step - loss: 0.6524 - accuracy: 0.7343 - val_loss: 0.8877 - val_accuracy: 0.6057\n",
      "Epoch 37/200\n",
      "5/5 [==============================] - 0s 8ms/step - loss: 0.6912 - accuracy: 0.6869 - val_loss: 0.8835 - val_accuracy: 0.6029\n",
      "Epoch 38/200\n",
      "5/5 [==============================] - 0s 8ms/step - loss: 0.6652 - accuracy: 0.7139 - val_loss: 0.8808 - val_accuracy: 0.6086\n",
      "Epoch 39/200\n",
      "5/5 [==============================] - 0s 9ms/step - loss: 0.6002 - accuracy: 0.7238 - val_loss: 0.8776 - val_accuracy: 0.6086\n",
      "Epoch 40/200\n",
      "5/5 [==============================] - 0s 9ms/step - loss: 0.6355 - accuracy: 0.6835 - val_loss: 0.8743 - val_accuracy: 0.6086\n",
      "Epoch 41/200\n",
      "5/5 [==============================] - 0s 8ms/step - loss: 0.6444 - accuracy: 0.6943 - val_loss: 0.8707 - val_accuracy: 0.6086\n",
      "Epoch 42/200\n",
      "5/5 [==============================] - 0s 8ms/step - loss: 0.6798 - accuracy: 0.7017 - val_loss: 0.8669 - val_accuracy: 0.6086\n",
      "Epoch 43/200\n",
      "5/5 [==============================] - 0s 8ms/step - loss: 0.5815 - accuracy: 0.7186 - val_loss: 0.8631 - val_accuracy: 0.6114\n",
      "Epoch 44/200\n",
      "5/5 [==============================] - 0s 8ms/step - loss: 0.5785 - accuracy: 0.7560 - val_loss: 0.8603 - val_accuracy: 0.6114\n",
      "Epoch 45/200\n",
      "5/5 [==============================] - 0s 8ms/step - loss: 0.6436 - accuracy: 0.7031 - val_loss: 0.8565 - val_accuracy: 0.6114\n",
      "Epoch 46/200\n",
      "5/5 [==============================] - 0s 8ms/step - loss: 0.5942 - accuracy: 0.7318 - val_loss: 0.8532 - val_accuracy: 0.6143\n",
      "Epoch 47/200\n",
      "5/5 [==============================] - 0s 8ms/step - loss: 0.5745 - accuracy: 0.7526 - val_loss: 0.8501 - val_accuracy: 0.6114\n",
      "Epoch 48/200\n",
      "5/5 [==============================] - 0s 8ms/step - loss: 0.5912 - accuracy: 0.7040 - val_loss: 0.8469 - val_accuracy: 0.6200\n",
      "Epoch 49/200\n",
      "5/5 [==============================] - 0s 8ms/step - loss: 0.6481 - accuracy: 0.7071 - val_loss: 0.8443 - val_accuracy: 0.6257\n",
      "Epoch 50/200\n",
      "5/5 [==============================] - 0s 8ms/step - loss: 0.5757 - accuracy: 0.7357 - val_loss: 0.8416 - val_accuracy: 0.6257\n",
      "Epoch 51/200\n",
      "5/5 [==============================] - 0s 8ms/step - loss: 0.6118 - accuracy: 0.7075 - val_loss: 0.8386 - val_accuracy: 0.6257\n",
      "Epoch 52/200\n",
      "5/5 [==============================] - 0s 8ms/step - loss: 0.6112 - accuracy: 0.7001 - val_loss: 0.8353 - val_accuracy: 0.6286\n",
      "Epoch 53/200\n",
      "5/5 [==============================] - 0s 8ms/step - loss: 0.6221 - accuracy: 0.7274 - val_loss: 0.8327 - val_accuracy: 0.6286\n",
      "Epoch 54/200\n",
      "5/5 [==============================] - 0s 8ms/step - loss: 0.5779 - accuracy: 0.7118 - val_loss: 0.8302 - val_accuracy: 0.6314\n",
      "Epoch 55/200\n",
      "5/5 [==============================] - 0s 26ms/step - loss: 0.5999 - accuracy: 0.7265 - val_loss: 0.8277 - val_accuracy: 0.6314\n",
      "Epoch 56/200\n",
      "5/5 [==============================] - 0s 9ms/step - loss: 0.5880 - accuracy: 0.7179 - val_loss: 0.8245 - val_accuracy: 0.6314\n",
      "Epoch 57/200\n",
      "5/5 [==============================] - 0s 8ms/step - loss: 0.6085 - accuracy: 0.6970 - val_loss: 0.8217 - val_accuracy: 0.6343\n",
      "Epoch 58/200\n",
      "5/5 [==============================] - 0s 8ms/step - loss: 0.5408 - accuracy: 0.7439 - val_loss: 0.8190 - val_accuracy: 0.6400\n",
      "Epoch 59/200\n",
      "5/5 [==============================] - 0s 8ms/step - loss: 0.5581 - accuracy: 0.7509 - val_loss: 0.8166 - val_accuracy: 0.6429\n",
      "Epoch 60/200\n",
      "5/5 [==============================] - 0s 8ms/step - loss: 0.5308 - accuracy: 0.7643 - val_loss: 0.8139 - val_accuracy: 0.6457\n",
      "Epoch 61/200\n",
      "5/5 [==============================] - 0s 8ms/step - loss: 0.5212 - accuracy: 0.7374 - val_loss: 0.8117 - val_accuracy: 0.6486\n",
      "Epoch 62/200\n",
      "5/5 [==============================] - 0s 8ms/step - loss: 0.5984 - accuracy: 0.6905 - val_loss: 0.8090 - val_accuracy: 0.6486\n",
      "Epoch 63/200\n",
      "5/5 [==============================] - 0s 8ms/step - loss: 0.5288 - accuracy: 0.7548 - val_loss: 0.8063 - val_accuracy: 0.6486\n",
      "Epoch 64/200\n",
      "5/5 [==============================] - 0s 9ms/step - loss: 0.5285 - accuracy: 0.7491 - val_loss: 0.8035 - val_accuracy: 0.6486\n",
      "Epoch 65/200\n",
      "5/5 [==============================] - 0s 9ms/step - loss: 0.5576 - accuracy: 0.7144 - val_loss: 0.8008 - val_accuracy: 0.6514\n",
      "Epoch 66/200\n",
      "5/5 [==============================] - 0s 8ms/step - loss: 0.5177 - accuracy: 0.7635 - val_loss: 0.7979 - val_accuracy: 0.6514\n",
      "Epoch 67/200\n",
      "5/5 [==============================] - 0s 9ms/step - loss: 0.5414 - accuracy: 0.7331 - val_loss: 0.7949 - val_accuracy: 0.6514\n",
      "Epoch 68/200\n",
      "5/5 [==============================] - 0s 8ms/step - loss: 0.5798 - accuracy: 0.7214 - val_loss: 0.7919 - val_accuracy: 0.6543\n",
      "Epoch 69/200\n",
      "5/5 [==============================] - 0s 9ms/step - loss: 0.5825 - accuracy: 0.7076 - val_loss: 0.7889 - val_accuracy: 0.6543\n",
      "Epoch 70/200\n",
      "5/5 [==============================] - 0s 8ms/step - loss: 0.5335 - accuracy: 0.7340 - val_loss: 0.7869 - val_accuracy: 0.6571\n",
      "Epoch 71/200\n",
      "5/5 [==============================] - 0s 8ms/step - loss: 0.5217 - accuracy: 0.7453 - val_loss: 0.7848 - val_accuracy: 0.6600\n",
      "Epoch 72/200\n",
      "5/5 [==============================] - 0s 9ms/step - loss: 0.5228 - accuracy: 0.7501 - val_loss: 0.7831 - val_accuracy: 0.6600\n",
      "Epoch 73/200\n",
      "5/5 [==============================] - 0s 8ms/step - loss: 0.5439 - accuracy: 0.7353 - val_loss: 0.7805 - val_accuracy: 0.6600\n",
      "Epoch 74/200\n",
      "5/5 [==============================] - 0s 8ms/step - loss: 0.5191 - accuracy: 0.7240 - val_loss: 0.7787 - val_accuracy: 0.6629\n",
      "Epoch 75/200\n",
      "5/5 [==============================] - 0s 8ms/step - loss: 0.5831 - accuracy: 0.7084 - val_loss: 0.7765 - val_accuracy: 0.6629\n",
      "Epoch 76/200\n",
      "5/5 [==============================] - 0s 8ms/step - loss: 0.5092 - accuracy: 0.7375 - val_loss: 0.7743 - val_accuracy: 0.6657\n",
      "Epoch 77/200\n",
      "5/5 [==============================] - 0s 9ms/step - loss: 0.5723 - accuracy: 0.7431 - val_loss: 0.7714 - val_accuracy: 0.6686\n",
      "Epoch 78/200\n",
      "5/5 [==============================] - 0s 9ms/step - loss: 0.5401 - accuracy: 0.7123 - val_loss: 0.7689 - val_accuracy: 0.6686\n",
      "Epoch 79/200\n",
      "5/5 [==============================] - 0s 8ms/step - loss: 0.5247 - accuracy: 0.7580 - val_loss: 0.7660 - val_accuracy: 0.6686\n",
      "Epoch 80/200\n",
      "5/5 [==============================] - 0s 8ms/step - loss: 0.5271 - accuracy: 0.7493 - val_loss: 0.7639 - val_accuracy: 0.6686\n",
      "Epoch 81/200\n",
      "5/5 [==============================] - 0s 8ms/step - loss: 0.5055 - accuracy: 0.7654 - val_loss: 0.7622 - val_accuracy: 0.6714\n",
      "Epoch 82/200\n",
      "5/5 [==============================] - 0s 9ms/step - loss: 0.4989 - accuracy: 0.7693 - val_loss: 0.7598 - val_accuracy: 0.6686\n",
      "Epoch 83/200\n",
      "5/5 [==============================] - 0s 8ms/step - loss: 0.5511 - accuracy: 0.7220 - val_loss: 0.7576 - val_accuracy: 0.6714\n",
      "Epoch 84/200\n",
      "5/5 [==============================] - 0s 8ms/step - loss: 0.5128 - accuracy: 0.7580 - val_loss: 0.7553 - val_accuracy: 0.6743\n",
      "Epoch 85/200\n",
      "5/5 [==============================] - 0s 8ms/step - loss: 0.5163 - accuracy: 0.7589 - val_loss: 0.7532 - val_accuracy: 0.6743\n",
      "Epoch 86/200\n",
      "5/5 [==============================] - 0s 9ms/step - loss: 0.5525 - accuracy: 0.7363 - val_loss: 0.7511 - val_accuracy: 0.6771\n",
      "Epoch 87/200\n",
      "5/5 [==============================] - 0s 9ms/step - loss: 0.5334 - accuracy: 0.7493 - val_loss: 0.7493 - val_accuracy: 0.6771\n",
      "Epoch 88/200\n",
      "5/5 [==============================] - 0s 8ms/step - loss: 0.5535 - accuracy: 0.7124 - val_loss: 0.7466 - val_accuracy: 0.6800\n",
      "Epoch 89/200\n",
      "5/5 [==============================] - 0s 8ms/step - loss: 0.5123 - accuracy: 0.7368 - val_loss: 0.7441 - val_accuracy: 0.6829\n",
      "Epoch 90/200\n",
      "5/5 [==============================] - 0s 8ms/step - loss: 0.5174 - accuracy: 0.7533 - val_loss: 0.7417 - val_accuracy: 0.6771\n",
      "Epoch 91/200\n",
      "5/5 [==============================] - 0s 8ms/step - loss: 0.5240 - accuracy: 0.7694 - val_loss: 0.7400 - val_accuracy: 0.6857\n",
      "Epoch 92/200\n",
      "5/5 [==============================] - 0s 9ms/step - loss: 0.5166 - accuracy: 0.7681 - val_loss: 0.7382 - val_accuracy: 0.6886\n",
      "Epoch 93/200\n",
      "5/5 [==============================] - 0s 8ms/step - loss: 0.5968 - accuracy: 0.7338 - val_loss: 0.7358 - val_accuracy: 0.6829\n",
      "Epoch 94/200\n",
      "5/5 [==============================] - 0s 8ms/step - loss: 0.5411 - accuracy: 0.7334 - val_loss: 0.7340 - val_accuracy: 0.6886\n",
      "Epoch 95/200\n",
      "5/5 [==============================] - 0s 8ms/step - loss: 0.4826 - accuracy: 0.7755 - val_loss: 0.7324 - val_accuracy: 0.6886\n",
      "Epoch 96/200\n",
      "5/5 [==============================] - 0s 8ms/step - loss: 0.5023 - accuracy: 0.7533 - val_loss: 0.7304 - val_accuracy: 0.6886\n",
      "Epoch 97/200\n",
      "5/5 [==============================] - 0s 8ms/step - loss: 0.5041 - accuracy: 0.7403 - val_loss: 0.7284 - val_accuracy: 0.6886\n",
      "Epoch 98/200\n",
      "5/5 [==============================] - 0s 8ms/step - loss: 0.5149 - accuracy: 0.7199 - val_loss: 0.7262 - val_accuracy: 0.6886\n",
      "Epoch 99/200\n",
      "5/5 [==============================] - 0s 8ms/step - loss: 0.4688 - accuracy: 0.7564 - val_loss: 0.7244 - val_accuracy: 0.6886\n",
      "Epoch 100/200\n",
      "5/5 [==============================] - 0s 8ms/step - loss: 0.4855 - accuracy: 0.7642 - val_loss: 0.7227 - val_accuracy: 0.6886\n",
      "Epoch 101/200\n",
      "5/5 [==============================] - 0s 8ms/step - loss: 0.4364 - accuracy: 0.8102 - val_loss: 0.7209 - val_accuracy: 0.6914\n",
      "Epoch 102/200\n",
      "5/5 [==============================] - 0s 8ms/step - loss: 0.4529 - accuracy: 0.7968 - val_loss: 0.7190 - val_accuracy: 0.6943\n",
      "Epoch 103/200\n",
      "5/5 [==============================] - 0s 8ms/step - loss: 0.4996 - accuracy: 0.7386 - val_loss: 0.7161 - val_accuracy: 0.6914\n",
      "Epoch 104/200\n",
      "5/5 [==============================] - 0s 9ms/step - loss: 0.4641 - accuracy: 0.8090 - val_loss: 0.7137 - val_accuracy: 0.6943\n",
      "Epoch 105/200\n",
      "5/5 [==============================] - 0s 8ms/step - loss: 0.4886 - accuracy: 0.7834 - val_loss: 0.7114 - val_accuracy: 0.6914\n",
      "Epoch 106/200\n",
      "5/5 [==============================] - 0s 8ms/step - loss: 0.4926 - accuracy: 0.7800 - val_loss: 0.7104 - val_accuracy: 0.6971\n",
      "Epoch 107/200\n",
      "5/5 [==============================] - 0s 24ms/step - loss: 0.5162 - accuracy: 0.7756 - val_loss: 0.7084 - val_accuracy: 0.6971\n",
      "Epoch 108/200\n",
      "5/5 [==============================] - 0s 8ms/step - loss: 0.5695 - accuracy: 0.7132 - val_loss: 0.7066 - val_accuracy: 0.6971\n",
      "Epoch 109/200\n",
      "5/5 [==============================] - 0s 8ms/step - loss: 0.4855 - accuracy: 0.7848 - val_loss: 0.7049 - val_accuracy: 0.6971\n",
      "Epoch 110/200\n",
      "5/5 [==============================] - 0s 8ms/step - loss: 0.4880 - accuracy: 0.7831 - val_loss: 0.7033 - val_accuracy: 0.6971\n",
      "Epoch 111/200\n",
      "5/5 [==============================] - 0s 8ms/step - loss: 0.4678 - accuracy: 0.8061 - val_loss: 0.7017 - val_accuracy: 0.6943\n",
      "Epoch 112/200\n",
      "5/5 [==============================] - 0s 8ms/step - loss: 0.4911 - accuracy: 0.7779 - val_loss: 0.7000 - val_accuracy: 0.6914\n",
      "Epoch 113/200\n",
      "5/5 [==============================] - 0s 9ms/step - loss: 0.4547 - accuracy: 0.8096 - val_loss: 0.6984 - val_accuracy: 0.6943\n",
      "Epoch 114/200\n",
      "5/5 [==============================] - 0s 8ms/step - loss: 0.4839 - accuracy: 0.7801 - val_loss: 0.6960 - val_accuracy: 0.6943\n",
      "Epoch 115/200\n",
      "5/5 [==============================] - 0s 8ms/step - loss: 0.4994 - accuracy: 0.7792 - val_loss: 0.6943 - val_accuracy: 0.6971\n",
      "Epoch 116/200\n",
      "5/5 [==============================] - 0s 8ms/step - loss: 0.4514 - accuracy: 0.8209 - val_loss: 0.6928 - val_accuracy: 0.7000\n",
      "Epoch 117/200\n"
     ]
    },
    {
     "name": "stdout",
     "output_type": "stream",
     "text": [
      "5/5 [==============================] - 0s 8ms/step - loss: 0.4947 - accuracy: 0.7983 - val_loss: 0.6913 - val_accuracy: 0.7000\n",
      "Epoch 118/200\n",
      "5/5 [==============================] - 0s 8ms/step - loss: 0.5023 - accuracy: 0.7662 - val_loss: 0.6894 - val_accuracy: 0.7057\n",
      "Epoch 119/200\n",
      "5/5 [==============================] - 0s 8ms/step - loss: 0.4893 - accuracy: 0.7861 - val_loss: 0.6877 - val_accuracy: 0.7057\n",
      "Epoch 120/200\n",
      "5/5 [==============================] - 0s 8ms/step - loss: 0.5380 - accuracy: 0.7449 - val_loss: 0.6855 - val_accuracy: 0.7114\n",
      "Epoch 121/200\n",
      "5/5 [==============================] - 0s 8ms/step - loss: 0.4897 - accuracy: 0.7809 - val_loss: 0.6836 - val_accuracy: 0.7143\n",
      "Epoch 122/200\n",
      "5/5 [==============================] - 0s 8ms/step - loss: 0.4656 - accuracy: 0.7901 - val_loss: 0.6819 - val_accuracy: 0.7143\n",
      "Epoch 123/200\n",
      "5/5 [==============================] - 0s 8ms/step - loss: 0.4576 - accuracy: 0.7844 - val_loss: 0.6804 - val_accuracy: 0.7143\n",
      "Epoch 124/200\n",
      "5/5 [==============================] - 0s 8ms/step - loss: 0.4090 - accuracy: 0.8322 - val_loss: 0.6784 - val_accuracy: 0.7229\n",
      "Epoch 125/200\n",
      "5/5 [==============================] - 0s 8ms/step - loss: 0.4952 - accuracy: 0.7714 - val_loss: 0.6766 - val_accuracy: 0.7257\n",
      "Epoch 126/200\n",
      "5/5 [==============================] - 0s 8ms/step - loss: 0.4383 - accuracy: 0.8148 - val_loss: 0.6748 - val_accuracy: 0.7286\n",
      "Epoch 127/200\n",
      "5/5 [==============================] - 0s 9ms/step - loss: 0.4927 - accuracy: 0.7867 - val_loss: 0.6726 - val_accuracy: 0.7314\n",
      "Epoch 128/200\n",
      "5/5 [==============================] - 0s 8ms/step - loss: 0.4279 - accuracy: 0.8197 - val_loss: 0.6712 - val_accuracy: 0.7314\n",
      "Epoch 129/200\n",
      "5/5 [==============================] - 0s 8ms/step - loss: 0.4728 - accuracy: 0.7928 - val_loss: 0.6691 - val_accuracy: 0.7314\n",
      "Epoch 130/200\n",
      "5/5 [==============================] - 0s 8ms/step - loss: 0.4722 - accuracy: 0.8189 - val_loss: 0.6676 - val_accuracy: 0.7314\n",
      "Epoch 131/200\n",
      "5/5 [==============================] - 0s 8ms/step - loss: 0.4083 - accuracy: 0.8340 - val_loss: 0.6656 - val_accuracy: 0.7371\n",
      "Epoch 132/200\n",
      "5/5 [==============================] - 0s 8ms/step - loss: 0.4414 - accuracy: 0.8254 - val_loss: 0.6639 - val_accuracy: 0.7371\n",
      "Epoch 133/200\n",
      "5/5 [==============================] - 0s 8ms/step - loss: 0.4210 - accuracy: 0.8154 - val_loss: 0.6620 - val_accuracy: 0.7371\n",
      "Epoch 134/200\n",
      "5/5 [==============================] - 0s 8ms/step - loss: 0.4677 - accuracy: 0.7955 - val_loss: 0.6599 - val_accuracy: 0.7371\n",
      "Epoch 135/200\n",
      "5/5 [==============================] - 0s 9ms/step - loss: 0.4487 - accuracy: 0.8154 - val_loss: 0.6587 - val_accuracy: 0.7400\n",
      "Epoch 136/200\n",
      "5/5 [==============================] - 0s 8ms/step - loss: 0.4604 - accuracy: 0.8064 - val_loss: 0.6572 - val_accuracy: 0.7400\n",
      "Epoch 137/200\n",
      "5/5 [==============================] - 0s 8ms/step - loss: 0.4934 - accuracy: 0.7743 - val_loss: 0.6559 - val_accuracy: 0.7400\n",
      "Epoch 138/200\n",
      "5/5 [==============================] - 0s 8ms/step - loss: 0.4662 - accuracy: 0.8090 - val_loss: 0.6544 - val_accuracy: 0.7400\n",
      "Epoch 139/200\n",
      "5/5 [==============================] - 0s 8ms/step - loss: 0.4482 - accuracy: 0.8185 - val_loss: 0.6533 - val_accuracy: 0.7400\n",
      "Epoch 140/200\n",
      "5/5 [==============================] - 0s 8ms/step - loss: 0.4392 - accuracy: 0.8298 - val_loss: 0.6520 - val_accuracy: 0.7429\n",
      "Epoch 141/200\n",
      "5/5 [==============================] - 0s 8ms/step - loss: 0.4857 - accuracy: 0.8207 - val_loss: 0.6501 - val_accuracy: 0.7429\n",
      "Epoch 142/200\n",
      "5/5 [==============================] - 0s 9ms/step - loss: 0.4141 - accuracy: 0.8464 - val_loss: 0.6493 - val_accuracy: 0.7429\n",
      "Epoch 143/200\n",
      "5/5 [==============================] - 0s 8ms/step - loss: 0.4075 - accuracy: 0.8629 - val_loss: 0.6482 - val_accuracy: 0.7457\n",
      "Epoch 144/200\n",
      "5/5 [==============================] - 0s 8ms/step - loss: 0.4037 - accuracy: 0.8581 - val_loss: 0.6468 - val_accuracy: 0.7457\n",
      "Epoch 145/200\n",
      "5/5 [==============================] - 0s 9ms/step - loss: 0.3599 - accuracy: 0.8707 - val_loss: 0.6454 - val_accuracy: 0.7457\n",
      "Epoch 146/200\n",
      "5/5 [==============================] - 0s 8ms/step - loss: 0.4435 - accuracy: 0.8338 - val_loss: 0.6437 - val_accuracy: 0.7457\n",
      "Epoch 147/200\n",
      "5/5 [==============================] - 0s 7ms/step - loss: 0.4413 - accuracy: 0.8390 - val_loss: 0.6420 - val_accuracy: 0.7457\n",
      "Epoch 148/200\n",
      "5/5 [==============================] - 0s 8ms/step - loss: 0.4511 - accuracy: 0.8086 - val_loss: 0.6400 - val_accuracy: 0.7429\n",
      "Epoch 149/200\n",
      "5/5 [==============================] - 0s 8ms/step - loss: 0.4503 - accuracy: 0.8290 - val_loss: 0.6383 - val_accuracy: 0.7429\n",
      "Epoch 150/200\n",
      "5/5 [==============================] - 0s 24ms/step - loss: 0.4252 - accuracy: 0.8299 - val_loss: 0.6369 - val_accuracy: 0.7429\n",
      "Epoch 151/200\n",
      "5/5 [==============================] - 0s 8ms/step - loss: 0.3923 - accuracy: 0.8308 - val_loss: 0.6357 - val_accuracy: 0.7429\n",
      "Epoch 152/200\n",
      "5/5 [==============================] - 0s 8ms/step - loss: 0.4050 - accuracy: 0.8442 - val_loss: 0.6348 - val_accuracy: 0.7457\n",
      "Epoch 153/200\n",
      "5/5 [==============================] - 0s 8ms/step - loss: 0.4385 - accuracy: 0.8377 - val_loss: 0.6334 - val_accuracy: 0.7457\n",
      "Epoch 154/200\n",
      "5/5 [==============================] - 0s 7ms/step - loss: 0.3963 - accuracy: 0.8460 - val_loss: 0.6324 - val_accuracy: 0.7486\n",
      "Epoch 155/200\n",
      "5/5 [==============================] - 0s 9ms/step - loss: 0.4144 - accuracy: 0.8555 - val_loss: 0.6312 - val_accuracy: 0.7486\n",
      "Epoch 156/200\n",
      "5/5 [==============================] - 0s 9ms/step - loss: 0.4687 - accuracy: 0.8182 - val_loss: 0.6292 - val_accuracy: 0.7457\n",
      "Epoch 157/200\n",
      "5/5 [==============================] - 0s 8ms/step - loss: 0.4478 - accuracy: 0.8134 - val_loss: 0.6275 - val_accuracy: 0.7486\n",
      "Epoch 158/200\n",
      "5/5 [==============================] - 0s 8ms/step - loss: 0.4397 - accuracy: 0.8469 - val_loss: 0.6260 - val_accuracy: 0.7514\n",
      "Epoch 159/200\n",
      "5/5 [==============================] - 0s 9ms/step - loss: 0.4221 - accuracy: 0.8573 - val_loss: 0.6247 - val_accuracy: 0.7514\n",
      "Epoch 160/200\n",
      "5/5 [==============================] - 0s 9ms/step - loss: 0.3870 - accuracy: 0.8595 - val_loss: 0.6236 - val_accuracy: 0.7543\n",
      "Epoch 161/200\n",
      "5/5 [==============================] - 0s 8ms/step - loss: 0.4215 - accuracy: 0.8365 - val_loss: 0.6224 - val_accuracy: 0.7514\n",
      "Epoch 162/200\n",
      "5/5 [==============================] - 0s 9ms/step - loss: 0.4215 - accuracy: 0.8265 - val_loss: 0.6210 - val_accuracy: 0.7543\n",
      "Epoch 163/200\n",
      "5/5 [==============================] - 0s 8ms/step - loss: 0.3871 - accuracy: 0.8564 - val_loss: 0.6198 - val_accuracy: 0.7543\n",
      "Epoch 164/200\n",
      "5/5 [==============================] - 0s 8ms/step - loss: 0.3710 - accuracy: 0.8673 - val_loss: 0.6186 - val_accuracy: 0.7543\n",
      "Epoch 165/200\n",
      "5/5 [==============================] - 0s 8ms/step - loss: 0.4001 - accuracy: 0.8452 - val_loss: 0.6174 - val_accuracy: 0.7571\n",
      "Epoch 166/200\n",
      "5/5 [==============================] - 0s 9ms/step - loss: 0.4165 - accuracy: 0.8443 - val_loss: 0.6163 - val_accuracy: 0.7571\n",
      "Epoch 167/200\n",
      "5/5 [==============================] - 0s 8ms/step - loss: 0.4091 - accuracy: 0.8330 - val_loss: 0.6152 - val_accuracy: 0.7543\n",
      "Epoch 168/200\n",
      "5/5 [==============================] - 0s 8ms/step - loss: 0.3612 - accuracy: 0.8725 - val_loss: 0.6147 - val_accuracy: 0.7571\n",
      "Epoch 169/200\n",
      "5/5 [==============================] - 0s 8ms/step - loss: 0.4119 - accuracy: 0.8482 - val_loss: 0.6130 - val_accuracy: 0.7543\n",
      "Epoch 170/200\n",
      "5/5 [==============================] - 0s 8ms/step - loss: 0.4169 - accuracy: 0.8330 - val_loss: 0.6119 - val_accuracy: 0.7571\n",
      "Epoch 171/200\n",
      "5/5 [==============================] - 0s 8ms/step - loss: 0.3740 - accuracy: 0.8651 - val_loss: 0.6107 - val_accuracy: 0.7600\n",
      "Epoch 172/200\n",
      "5/5 [==============================] - 0s 8ms/step - loss: 0.4155 - accuracy: 0.8287 - val_loss: 0.6096 - val_accuracy: 0.7600\n",
      "Epoch 173/200\n",
      "5/5 [==============================] - 0s 8ms/step - loss: 0.4061 - accuracy: 0.8491 - val_loss: 0.6085 - val_accuracy: 0.7600\n",
      "Epoch 174/200\n",
      "5/5 [==============================] - 0s 9ms/step - loss: 0.3828 - accuracy: 0.8521 - val_loss: 0.6075 - val_accuracy: 0.7600\n",
      "Epoch 175/200\n",
      "5/5 [==============================] - 0s 8ms/step - loss: 0.3592 - accuracy: 0.8560 - val_loss: 0.6062 - val_accuracy: 0.7600\n",
      "Epoch 176/200\n",
      "5/5 [==============================] - 0s 8ms/step - loss: 0.3532 - accuracy: 0.8603 - val_loss: 0.6054 - val_accuracy: 0.7600\n",
      "Epoch 177/200\n",
      "5/5 [==============================] - 0s 8ms/step - loss: 0.3800 - accuracy: 0.8547 - val_loss: 0.6042 - val_accuracy: 0.7629\n",
      "Epoch 178/200\n",
      "5/5 [==============================] - 0s 8ms/step - loss: 0.4000 - accuracy: 0.8443 - val_loss: 0.6029 - val_accuracy: 0.7600\n",
      "Epoch 179/200\n",
      "5/5 [==============================] - 0s 8ms/step - loss: 0.4133 - accuracy: 0.8378 - val_loss: 0.6018 - val_accuracy: 0.7600\n",
      "Epoch 180/200\n",
      "5/5 [==============================] - 0s 8ms/step - loss: 0.3578 - accuracy: 0.8729 - val_loss: 0.6007 - val_accuracy: 0.7600\n",
      "Epoch 181/200\n",
      "5/5 [==============================] - 0s 8ms/step - loss: 0.3711 - accuracy: 0.8603 - val_loss: 0.5995 - val_accuracy: 0.7600\n",
      "Epoch 182/200\n",
      "5/5 [==============================] - 0s 8ms/step - loss: 0.3587 - accuracy: 0.8729 - val_loss: 0.5982 - val_accuracy: 0.7600\n",
      "Epoch 183/200\n",
      "5/5 [==============================] - 0s 8ms/step - loss: 0.3857 - accuracy: 0.8399 - val_loss: 0.5972 - val_accuracy: 0.7600\n",
      "Epoch 184/200\n",
      "5/5 [==============================] - 0s 8ms/step - loss: 0.4114 - accuracy: 0.8291 - val_loss: 0.5959 - val_accuracy: 0.7600\n",
      "Epoch 185/200\n",
      "5/5 [==============================] - 0s 8ms/step - loss: 0.3619 - accuracy: 0.8608 - val_loss: 0.5953 - val_accuracy: 0.7600\n",
      "Epoch 186/200\n",
      "5/5 [==============================] - 0s 8ms/step - loss: 0.3614 - accuracy: 0.8890 - val_loss: 0.5940 - val_accuracy: 0.7600\n",
      "Epoch 187/200\n",
      "5/5 [==============================] - 0s 8ms/step - loss: 0.3617 - accuracy: 0.8625 - val_loss: 0.5929 - val_accuracy: 0.7629\n",
      "Epoch 188/200\n",
      "5/5 [==============================] - 0s 8ms/step - loss: 0.3510 - accuracy: 0.8643 - val_loss: 0.5918 - val_accuracy: 0.7629\n",
      "Epoch 189/200\n",
      "5/5 [==============================] - 0s 8ms/step - loss: 0.3918 - accuracy: 0.8504 - val_loss: 0.5908 - val_accuracy: 0.7629\n",
      "Epoch 190/200\n",
      "5/5 [==============================] - 0s 8ms/step - loss: 0.4119 - accuracy: 0.8383 - val_loss: 0.5897 - val_accuracy: 0.7629\n",
      "Epoch 191/200\n",
      "5/5 [==============================] - 0s 8ms/step - loss: 0.3412 - accuracy: 0.8795 - val_loss: 0.5888 - val_accuracy: 0.7629\n",
      "Epoch 192/200\n",
      "5/5 [==============================] - 0s 8ms/step - loss: 0.3735 - accuracy: 0.8656 - val_loss: 0.5878 - val_accuracy: 0.7629\n",
      "Epoch 193/200\n",
      "5/5 [==============================] - 0s 8ms/step - loss: 0.3589 - accuracy: 0.8582 - val_loss: 0.5867 - val_accuracy: 0.7629\n",
      "Epoch 194/200\n",
      "5/5 [==============================] - 0s 9ms/step - loss: 0.3822 - accuracy: 0.8582 - val_loss: 0.5859 - val_accuracy: 0.7657\n",
      "Epoch 195/200\n",
      "5/5 [==============================] - 0s 8ms/step - loss: 0.3813 - accuracy: 0.8335 - val_loss: 0.5853 - val_accuracy: 0.7657\n",
      "Epoch 196/200\n",
      "5/5 [==============================] - 0s 9ms/step - loss: 0.3744 - accuracy: 0.8426 - val_loss: 0.5844 - val_accuracy: 0.7714\n",
      "Epoch 197/200\n",
      "5/5 [==============================] - 0s 8ms/step - loss: 0.3447 - accuracy: 0.8812 - val_loss: 0.5837 - val_accuracy: 0.7686\n",
      "Epoch 198/200\n",
      "5/5 [==============================] - 0s 8ms/step - loss: 0.3837 - accuracy: 0.8565 - val_loss: 0.5826 - val_accuracy: 0.7714\n",
      "Epoch 199/200\n",
      "5/5 [==============================] - 0s 8ms/step - loss: 0.3794 - accuracy: 0.8621 - val_loss: 0.5814 - val_accuracy: 0.7714\n",
      "Epoch 200/200\n",
      "5/5 [==============================] - 0s 8ms/step - loss: 0.3598 - accuracy: 0.8582 - val_loss: 0.5802 - val_accuracy: 0.7714\n"
     ]
    }
   ],
   "source": [
    "# fit model\n",
    "history = model.fit(trainX, trainy, validation_data=(testX, testy), epochs=200, verbose=1)"
   ]
  },
  {
   "cell_type": "markdown",
   "metadata": {},
   "source": [
    "At the end of the run, we will evaluate the model's performance on both the train and the test sets."
   ]
  },
  {
   "cell_type": "code",
   "execution_count": 19,
   "metadata": {},
   "outputs": [
    {
     "name": "stdout",
     "output_type": "stream",
     "text": [
      "Train: 0.853, Test: 0.771\n"
     ]
    }
   ],
   "source": [
    "# evaluate the model\n",
    "_, train_acc = model.evaluate(trainX, trainy, verbose=0)\n",
    "_, test_acc = model.evaluate(testX, testy, verbose=0)\n",
    "print('Train: %.3f, Test: %.3f' % (train_acc, test_acc))"
   ]
  },
  {
   "cell_type": "markdown",
   "metadata": {},
   "source": [
    "Then finally, we will plot model loss and accuracy learning curves over each training epoch on both the training and test dataset."
   ]
  },
  {
   "cell_type": "code",
   "execution_count": 20,
   "metadata": {},
   "outputs": [
    {
     "data": {
      "image/png": "[encoded data removed]",
      "text/plain": [
       "<Figure size 432x288 with 2 Axes>"
      ]
     },
     "metadata": {
      "needs_background": "light"
     },
     "output_type": "display_data"
    }
   ],
   "source": [
    "# plot loss learning curves\n",
    "pyplot.subplot(211)\n",
    "pyplot.title('Cross-Entropy Loss', pad=-40)\n",
    "pyplot.plot(history.history['loss'], label='train')\n",
    "pyplot.plot(history.history['val_loss'], label='test')\n",
    "pyplot.legend()\n",
    "\n",
    "# plot accuracy learning curves\n",
    "pyplot.subplot(212)\n",
    "pyplot.title('Accuracy', pad=-40)\n",
    "pyplot.plot(history.history['accuracy'], label='train')\n",
    "pyplot.plot(history.history['val_accuracy'], label='test')\n",
    "pyplot.legend()\n",
    "\n",
    "pyplot.show()"
   ]
  },
  {
   "cell_type": "markdown",
   "metadata": {},
   "source": [
    "The complete example is listed below."
   ]
  },
  {
   "cell_type": "code",
   "execution_count": 21,
   "metadata": {},
   "outputs": [
    {
     "name": "stdout",
     "output_type": "stream",
     "text": [
      "Train: 0.853, Test: 0.763\n"
     ]
    }
   ],
   "source": [
    "# fit high variance mlp on blobs classification problem\n",
    "from sklearn.datasets import make_blobs\n",
    "from tensorflow.keras.utils import to_categorical\n",
    "from tensorflow.keras.models import Sequential\n",
    "from tensorflow.keras.layers import Dense\n",
    "from matplotlib import pyplot\n",
    "\n",
    "# generate 2d classification dataset\n",
    "X, y = make_blobs(n_samples=500, centers=3, n_features=2, cluster_std=2, random_state=2)\n",
    "y = to_categorical(y)\n",
    "\n",
    "# split into train and test\n",
    "n_train = int(0.3 * X.shape[0])\n",
    "trainX, testX = X[:n_train, :], X[n_train:, :]\n",
    "trainy, testy = y[:n_train], y[n_train:]\n",
    "\n",
    "# define model\n",
    "model = Sequential()\n",
    "model.add(Dense(15, input_dim=2, activation='relu'))\n",
    "model.add(Dense(3, activation='softmax'))\n",
    "model.compile(loss='categorical_crossentropy', optimizer='adam', metrics=['accuracy'])\n",
    "\n",
    "# fit model\n",
    "history = model.fit(trainX, trainy, validation_data=(testX, testy), epochs=200, verbose=0)\n",
    "\n",
    "# evaluate the model\n",
    "_, train_acc = model.evaluate(trainX, trainy, verbose=0)\n",
    "_, test_acc = model.evaluate(testX, testy, verbose=0)\n",
    "print('Train: %.3f, Test: %.3f' % (train_acc, test_acc))"
   ]
  },
  {
   "cell_type": "markdown",
   "metadata": {},
   "source": [
    "Running the example, it first prints the performance of the final model on the train and test datasets.\n",
    "\n",
    "**Note:** Your specific results may vary, given the stochastic nature of the learning algorithm. Consider running the example a few times and compare the average performance.\n",
    "\n",
    "In this case, we can see that the model achieved about 84% accuracy on the training dataset and 76 % accuracy on the test dataset, which is not terrible."
   ]
  },
  {
   "cell_type": "markdown",
   "metadata": {},
   "source": [
    "A line plot also shows the learning curves for the model accuracy on the train and test sets over each training epoch. We can see that the model is not really overfitting but is perhaps a little underfit and may benefit from an increase in capacity, more training, and perhaps some regularization. We intentionally hold back all of these improvements to force high variance for our case study."
   ]
  },
  {
   "cell_type": "code",
   "execution_count": 23,
   "metadata": {},
   "outputs": [
    {
     "data": {
      "image/png": "[encoded data removed]",
      "text/plain": [
       "<Figure size 432x288 with 2 Axes>"
      ]
     },
     "metadata": {
      "needs_background": "light"
     },
     "output_type": "display_data"
    }
   ],
   "source": [
    "# plot loss learning curves\n",
    "pyplot.subplot(211)\n",
    "pyplot.title('Cross-Entropy Loss', pad=-40)\n",
    "pyplot.plot(history.history['loss'], label='train')\n",
    "pyplot.plot(history.history['val_loss'], label='test')\n",
    "pyplot.legend()\n",
    "\n",
    "# plot accuracy learning curves\n",
    "pyplot.subplot(212)\n",
    "pyplot.title('Accuracy', pad=-40)\n",
    "pyplot.plot(history.history['accuracy'], label='train')\n",
    "pyplot.plot(history.history['val_accuracy'], label='test')\n",
    "pyplot.legend()\n",
    "\n",
    "pyplot.show()"
   ]
  },
  {
   "cell_type": "markdown",
   "metadata": {},
   "source": [
    "### High Variance of MLP Model"
   ]
  },
  {
   "cell_type": "markdown",
   "metadata": {},
   "source": [
    "It is important to demonstrate that the model indeed has a variance in its prediction. We can demonstrate this by repeating the fit and evaluation of the same model configuration on the same dataset and summarizing the final performance of the model. To do this, we first split the fit and evaluation of the model out as a function that we can call repeatedly. The `evaluate_model()` function below takes the train, and the test dataset fits a model, then evaluates it, retuning the model's accuracy on the test dataset."
   ]
  },
  {
   "cell_type": "code",
   "execution_count": 1,
   "metadata": {},
   "outputs": [],
   "source": [
    "# Listing 20.17"
   ]
  },
  {
   "cell_type": "markdown",
   "metadata": {},
   "source": [
    "We can call this function 30 times, saving the test accuracy scores."
   ]
  },
  {
   "cell_type": "code",
   "execution_count": 2,
   "metadata": {},
   "outputs": [],
   "source": [
    "# Listing 20.18"
   ]
  },
  {
   "cell_type": "markdown",
   "metadata": {},
   "source": [
    "Once collected, we can summarize the distribution scores, first in terms of the mean and standard deviation, assuming the distribution is Gaussian, which is very reasonable."
   ]
  },
  {
   "cell_type": "code",
   "execution_count": 3,
   "metadata": {},
   "outputs": [],
   "source": [
    "# Listing 20.19"
   ]
  },
  {
   "cell_type": "markdown",
   "metadata": {},
   "source": [
    "We can then summarize the distribution both as a histogram to show the shape of the distribution and as a box and whisker plot to show the spread and body of the distribution."
   ]
  },
  {
   "cell_type": "code",
   "execution_count": 4,
   "metadata": {},
   "outputs": [],
   "source": [
    "# Listing 20.20"
   ]
  },
  {
   "cell_type": "markdown",
   "metadata": {},
   "source": [
    "The complete example of summarizing the variance of the MLP model on the chosen blobs dataset is listed below."
   ]
  },
  {
   "cell_type": "code",
   "execution_count": 5,
   "metadata": {},
   "outputs": [],
   "source": [
    "# Listing 20.21"
   ]
  },
  {
   "cell_type": "markdown",
   "metadata": {},
   "source": [
    "Running the example first prints the accuracy of each model on the test set, finishing with the mean and standard deviation of the sample of accuracy scores.\n",
    "\n",
    "**Note:** Your specific results may vary, given the stochastic nature of the learning algorithm. Consider running the example a few times and compare the average performance.\n",
    "\n",
    "In this case, we can see that the average of the sample is 77%, with a standard deviation of about 1.4%. Assuming a Gaussian distribution, we would expect 99% of accuracy scores to fall between about 73% and 81% (i.e., three standard deviations above and below the mean). We can take the standard deviation of the model's accuracy on the test set as an estimate for the variance of the predictions made by the model."
   ]
  },
  {
   "cell_type": "code",
   "execution_count": 6,
   "metadata": {},
   "outputs": [],
   "source": [
    "# Listing 20.22"
   ]
  },
  {
   "cell_type": "markdown",
   "metadata": {},
   "source": [
    "A histogram of the accuracy scores is also created, showing a very rough Gaussian shape, perhaps with a longer right tail. A large sample and a different number of bins on the plot might better expose the true underlying shape of the distribution."
   ]
  },
  {
   "cell_type": "code",
   "execution_count": 7,
   "metadata": {},
   "outputs": [],
   "source": [
    "# Figure 20.3"
   ]
  },
  {
   "cell_type": "markdown",
   "metadata": {},
   "source": [
    "A box and whisker plot is also created, showing a line at the median at about 76.5% accuracy on the test set and the interquartile range or middle 50% of the samples between about 78% and 76%."
   ]
  },
  {
   "cell_type": "code",
   "execution_count": 8,
   "metadata": {},
   "outputs": [],
   "source": [
    "# Figure 20.4"
   ]
  },
  {
   "cell_type": "markdown",
   "metadata": {},
   "source": [
    "The analysis of the sample of test scores demonstrates a variance in the performance of the same model trained on the same dataset. A spread of likely scores of about eight percentage points (81% to 73%) on the test set could reasonably be considered large, e.g., a high variance result."
   ]
  },
  {
   "cell_type": "markdown",
   "metadata": {},
   "source": [
    "### Model Averaging Ensemble"
   ]
  },
  {
   "cell_type": "markdown",
   "metadata": {},
   "source": [
    "We can use model averaging to reduce the variance of the model and possibly reduce the model's generalization error. Specifically, this would result in a smaller standard deviation on the holdout test set and better performance on the training set. We can check both of these assumptions. First, we must develop a function to prepare and return a fit model on the training dataset."
   ]
  },
  {
   "cell_type": "code",
   "execution_count": 9,
   "metadata": {},
   "outputs": [],
   "source": [
    "# Listing 20.23"
   ]
  },
  {
   "cell_type": "markdown",
   "metadata": {},
   "source": [
    "Next, we need a function to take a list of ensemble members and predict an out-of-sample dataset. This could be one or more samples arranged in a two-dimensional array of samples and input features. Tip: you can use this function yourself to test ensembles and make predictions with ensembles on new data."
   ]
  },
  {
   "cell_type": "code",
   "execution_count": 10,
   "metadata": {},
   "outputs": [],
   "source": [
    "# Listing 20.24"
   ]
  },
  {
   "cell_type": "markdown",
   "metadata": {},
   "source": [
    "We do not know how many ensemble members will be appropriate for this problem. Therefore, we can perform a sensitivity analysis of the number of ensemble members and how it impacts test accuracy. This means we need a function that can evaluate a specified number of ensemble members and return the accuracy of a prediction combined from those members."
   ]
  },
  {
   "cell_type": "code",
   "execution_count": 11,
   "metadata": {},
   "outputs": [],
   "source": [
    "# Listing 20.25"
   ]
  },
  {
   "cell_type": "markdown",
   "metadata": {},
   "source": [
    "Finally, we can create a line plot of the number of ensemble members (x-axis) versus the prediction accuracy averaged across that many members on the test dataset (y-axis)."
   ]
  },
  {
   "cell_type": "code",
   "execution_count": 12,
   "metadata": {},
   "outputs": [],
   "source": [
    "# Listing 20.26"
   ]
  },
  {
   "cell_type": "markdown",
   "metadata": {},
   "source": [
    "The complete example is listed below."
   ]
  },
  {
   "cell_type": "code",
   "execution_count": 13,
   "metadata": {},
   "outputs": [],
   "source": [
    "# Listing 20.27"
   ]
  },
  {
   "cell_type": "markdown",
   "metadata": {},
   "source": [
    "Running the example first fits 20 models on the same training dataset, which may take less than a minute on modern hardware. Then, different-sized ensembles are tested from 1 to all 20 members, and test accuracy results are printed for each ensemble size."
   ]
  },
  {
   "cell_type": "code",
   "execution_count": 14,
   "metadata": {},
   "outputs": [],
   "source": [
    "# Listing 20.28"
   ]
  },
  {
   "cell_type": "markdown",
   "metadata": {},
   "source": [
    "Finally, a line plot shows the relationship between ensemble size and performance on the test set. We can see that performance improves to about five members, after which performance plateaus around 76% accuracy. This is close to the average test set performance observed during the analysis of the repeated evaluation of the model."
   ]
  },
  {
   "cell_type": "code",
   "execution_count": 15,
   "metadata": {},
   "outputs": [],
   "source": [
    "# Figure 20.5"
   ]
  },
  {
   "cell_type": "markdown",
   "metadata": {},
   "source": [
    "Finally, we can update the repeated evaluation experiment to use an ensemble of five models instead of a single model and compare the distribution of scores. The complete example of a repeated evaluated five-member ensemble of the blobs dataset is listed below."
   ]
  },
  {
   "cell_type": "code",
   "execution_count": 16,
   "metadata": {},
   "outputs": [],
   "source": [
    "# Listing 20.29"
   ]
  },
  {
   "cell_type": "markdown",
   "metadata": {},
   "source": [
    "Running the example may take a few minutes as five models are fit and evaluated, and this process is repeated 30 times. The performance of each model on the test set is printed to provide an indication of progress. The mean and standard deviation of the model performance is printed\n",
    "at the end of the run.\n",
    "\n",
    "**Note:** Your specific results may vary, given the stochastic nature of the learning algorithm. Consider running the example a few times and compare the average performance."
   ]
  },
  {
   "cell_type": "code",
   "execution_count": 17,
   "metadata": {},
   "outputs": [],
   "source": [
    "# Listing 20.30"
   ]
  },
  {
   "cell_type": "markdown",
   "metadata": {},
   "source": [
    "In this case, we can see that the average performance of a five-member ensemble on the dataset is 76.8%. This is very close to the average of 77% seen for a single model. The important difference is the standard deviation shrinking from 1.4% for a single model to 0.6% with an\n",
    "ensemble of five models. We might expect that a given ensemble of five models on this problem to have a performance fall between about 74% and about 78%, with a likelihood of 99%.\n",
    "\n",
    "Averaging the same model trained on the same dataset gives us a spread for improved reliability, a property often highly desired in a final model to be used operationally. More models in the ensemble will further decrease the standard deviation of the accuracy of an ensemble on the test dataset given the law of large numbers, at least to the point of diminishing returns. This demonstrates that for this specific model and prediction problem, that a model averaging ensemble with five members is sufficient to reduce the variance of the model. This reduction in variance, in turn, also means a better on-average performance when preparing a final model."
   ]
  },
  {
   "cell_type": "markdown",
   "metadata": {},
   "source": [
    "## Extensions"
   ]
  },
  {
   "cell_type": "markdown",
   "metadata": {},
   "source": [
    "This section lists some ideas for extending the tutorial that you may wish to explore.\n",
    "\n",
    "* **Average Class Prediction**. Update the example to average the class integer prediction instead of the class probability prediction and compare results.\n",
    "* **Save and Load Models**. Update the example to save ensemble members to a file, then load them from a separate script for evaluation.\n",
    "* **Sensitivity of Variance**. Create a new example that performs a sensitivity analysis of the number of ensemble members on the standard deviation of model performance on the test set over a given number of repeats and report the point of diminishing returns."
   ]
  },
  {
   "cell_type": "markdown",
   "metadata": {},
   "source": [
    "## Summary"
   ]
  },
  {
   "cell_type": "markdown",
   "metadata": {},
   "source": [
    "In this tutorial, you discovered how to develop a model averaging ensemble in Keras to reduce the variance in a final model. Specifically, you learned:\n",
    "\n",
    "* Model averaging is an ensemble learning technique that can be used to reduce the expected variance of deep learning neural network models.\n",
    "* How to implement model averaging in Keras for classification and regression predictive modeling problems.\n",
    "* How to work through a multiclass classification problem and use model averaging to reduce the variance of the final model."
   ]
  },
  {
   "cell_type": "code",
   "execution_count": null,
   "metadata": {},
   "outputs": [],
   "source": []
  }
 ],
 "metadata": {
  "kernelspec": {
   "display_name": "Python 3",
   "language": "python",
   "name": "python3"
  },
  "language_info": {
   "codemirror_mode": {
    "name": "ipython",
    "version": 3
   },
   "file_extension": ".py",
   "mimetype": "text/x-python",
   "name": "python",
   "nbconvert_exporter": "python",
   "pygments_lexer": "ipython3",
   "version": "3.6.9"
  }
 },
 "nbformat": 4,
 "nbformat_minor": 2
}
