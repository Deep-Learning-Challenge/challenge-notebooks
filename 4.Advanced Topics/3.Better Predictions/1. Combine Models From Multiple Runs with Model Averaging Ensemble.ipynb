{
 "cells": [
  {
   "cell_type": "markdown",
   "metadata": {},
   "source": [
    "# Combine Models From Multiple Runs With Model Averaging Ensemble"
   ]
  },
  {
   "cell_type": "markdown",
   "metadata": {},
   "source": [
    "Deep learning neural network models are highly flexible nonlinear algorithms capable of learning a nearly infinite number of mapping functions. Frustration with this flexibility is the high variance in a final model. The same neural network model trained on the same dataset may nd one of many different possible good enough solutions each time it is run. In this tutorial, you will discover how to develop a model averaging ensemble in Keras to reduce the variance in a final model. Model averaging is an ensemble learning technique that reduces the variance in a final neural network model, sacrificing spread (and possibly better scores) in the model's performance for confidence in what performance to expect from the model. After completing this tutorial, you will know:\n",
    "\n",
    "* Model averaging is an ensemble learning technique that can be used to reduce the expected variance of deep learning neural network models.\n",
    "* How to implement model averaging in Keras for classification and regression predictive modeling problems.\n",
    "* How to work through a multiclass classification problem and use model averaging to reduce the variance of the final model."
   ]
  },
  {
   "cell_type": "markdown",
   "metadata": {},
   "source": [
    "## Model Averaging Ensemble"
   ]
  },
  {
   "cell_type": "markdown",
   "metadata": {},
   "source": [
    "Deep learning neural network models are nonlinear methods that learn via a stochastic training algorithm. This means that they are highly flexible, capable of learning complex relationships between variables and approximating any mapping function, given enough resources. A downside of this flexibility is that the models suffer high variance. This means that the models are highly dependent on the specific training data used to train the model and on the initial conditions (random initial weights) and serendipity during the training process. The result is a final model that makes different predictions each time the same model configuration is trained on the same dataset.\n",
    "\n",
    "This can be frustrating when training a final model to make predictions on new data, such as operationally or in a machine learning competition. The high variance of the approach can be addressed by training multiple models for the problem and combining their predictions. This approach is called model averaging and belongs to a family of techniques called ensemble learning."
   ]
  },
  {
   "cell_type": "markdown",
   "metadata": {},
   "source": [
    "## Ensembles in Keras"
   ]
  },
  {
   "cell_type": "markdown",
   "metadata": {},
   "source": [
    "The simplest way to develop a model averaging ensemble in Keras is to train multiple models on the same dataset then combine the predictions from each of the trained models."
   ]
  },
  {
   "cell_type": "markdown",
   "metadata": {},
   "source": [
    "### Train Multiple Models"
   ]
  },
  {
   "cell_type": "markdown",
   "metadata": {},
   "source": [
    "Training multiple models may be resource-intensive, depending on the size of the model and the size of the training data. You may have to train the models sequentially on the same hardware. For very large models, it may be worth training the models in parallel using cloud infrastructure\n",
    "such as Amazon Web Services.\n",
    "\n",
    "The number of models required for the ensemble may vary based on the complexity of the problem and model. A benefit of the approach is that you can continue creating models, adding them to the ensemble, and evaluating their impact on the performance by making predictions on a holdout test set. You can train the models sequentially for small models and keep them in memory for use in your experiment. For example:\n",
    "\n",
    "```\n",
    "...\n",
    "# train models and keep them in memory\n",
    "n_members = 10\n",
    "models = list()\n",
    "for _ in range(n_members):\n",
    "    # define and fit model\n",
    "    model = ...\n",
    "    \n",
    "    # store model in memory as ensemble member\n",
    "    models.add(models)\n",
    "...\n",
    "```"
   ]
  },
  {
   "cell_type": "markdown",
   "metadata": {},
   "source": [
    "For large models, perhaps trained on different hardware, you can save each model to a file.\n",
    "\n",
    "```\n",
    "...\n",
    "# train models and keep them to file\n",
    "n_members = 10\n",
    "for i in range(n_members):\n",
    "    # define and fit model\n",
    "    model = ...\n",
    "\n",
    "    # save model to file\n",
    "    filename = 'model_' + str(i + 1) + '.h5'\n",
    "    model.save(filename)\n",
    "    \n",
    "    print('Saved: %s' % filename)\n",
    "...\n",
    "```"
   ]
  },
  {
   "cell_type": "markdown",
   "metadata": {},
   "source": [
    "Models can then be loaded later. Small models can all be loaded into memory simultaneously, whereas very large models may have to be loaded one at a time to make a prediction, then later to have the predictions combined.\n",
    "\n",
    "```\n",
    "from tensorflow.keras.models import load_model\n",
    "...\n",
    "\n",
    "# load pre-trained ensemble members\n",
    "n_members = 10\n",
    "models = list()\n",
    "\n",
    "for i in range(n_members):\n",
    "    # load model\n",
    "    filename = 'model_' + str(i + 1) + '.h5'\n",
    "    model = load_model(filename)\n",
    "\n",
    "    # store in memory\n",
    "    models.append(model)\n",
    "...\n",
    "```"
   ]
  },
  {
   "cell_type": "markdown",
   "metadata": {},
   "source": [
    "### Combine Predictions"
   ]
  },
  {
   "cell_type": "markdown",
   "metadata": {},
   "source": [
    "Once the models have been prepared, each model can be used to predict, and the predictions can be combined. In a regression problem where each model predicts a real-valued output, the values can be collected, and the average is calculated.\n",
    "\n",
    "```\n",
    "...\n",
    "# make predictions\n",
    "yhats = [model.predict(testX) for model in models]\n",
    "yhats = array(yhats)\n",
    "\n",
    "# calculate average\n",
    "outcomes = mean(yhats)\n",
    "```"
   ]
  },
  {
   "cell_type": "markdown",
   "metadata": {},
   "source": [
    "In the case of a classification problem, there are two options: to combine the predicted class labels or to combine the predicted probabilities. The class labels can be combined by calculating the statistical mode (most frequent value), for example:\n",
    "\n",
    "```\n",
    "...\n",
    "# make predictions\n",
    "yhats = [model.predict_classes(testX) for model in models]\n",
    "yhats = array(yhats)\n",
    "\n",
    "# calculate mode\n",
    "outcomes, _ = mode(yhats)\n",
    "```"
   ]
  },
  {
   "cell_type": "markdown",
   "metadata": {},
   "source": [
    "A downside of this approach is that for small ensembles or problems with a large number of classes, the sample of predictions may not be large enough for the mode to be meaningful. A sigmoid activation function is used on the output layer in a binary classification problem, and the average of the predicted probabilities can be calculated much like a regression problem. In the case of a multiclass classification problem with more than two classes, a softmax activation function is used on the output layer, and the sum of the probabilities for each predicted class can be calculated before taking the argmax to get the class value, for example:\n",
    "\n",
    "```\n",
    "...\n",
    "# make predictions\n",
    "yhats = [model.predict(testX) for model in models]\n",
    "yhats = array(yhats)\n",
    "\n",
    "# sum across ensembles\n",
    "summed = numpy.sum(yhats, axis=0)\n",
    "\n",
    "# argmax across classes\n",
    "outcomes = argmax(summed, axis=1)\n",
    "```"
   ]
  },
  {
   "cell_type": "markdown",
   "metadata": {},
   "source": [
    "These approaches for combining predictions of Keras models will work just as well for Multilayer Perceptron, Convolutional, and Recurrent Neural Networks. Now that we know how to average predictions from multiple neural network models in Keras, let us work through a case study."
   ]
  },
  {
   "cell_type": "markdown",
   "metadata": {},
   "source": [
    "## Model Averaging Ensemble Case Study"
   ]
  },
  {
   "cell_type": "markdown",
   "metadata": {},
   "source": [
    "In this section, we will demonstrate how to use the model average ensemble to reduce the variance of an MLP on a simple multiclass classification problem. This example provides a template for applying the model average ensemble to your neural network for classification and regression problems."
   ]
  },
  {
   "cell_type": "markdown",
   "metadata": {},
   "source": [
    "### Multiclass Classification Problem"
   ]
  },
  {
   "cell_type": "markdown",
   "metadata": {},
   "source": [
    "We will use a small multiclass classification problem as the basis to demonstrate a model averaging ensemble. The scikit-learn class provides the `make_blobs()` function that can be used to create a multiclass classification problem with the prescribed number of samples, input variables, classes, and variance of samples within a class. We use this problem with 500 examples, with two input variables (to represent the x and y coordinates of the points) and a standard deviation of 2.0 for points within each group. We will use the same random state (seed for the pseudorandom number generator) to ensure that we always get the same 500 points."
   ]
  },
  {
   "cell_type": "code",
   "execution_count": 1,
   "metadata": {},
   "outputs": [],
   "source": [
    "from sklearn.datasets import make_blobs\n",
    "\n",
    "# generate 2d classification dataset\n",
    "X, y = make_blobs(n_samples=500, centers=3, n_features=2, cluster_std=2, random_state=2)"
   ]
  },
  {
   "cell_type": "markdown",
   "metadata": {},
   "source": [
    "The results are the input and output elements of a dataset that we can model. In order to get a feeling for the complexity of the problem, we can graph each point on a two-dimensional scatter plot and color each point by class value. The complete example is listed below."
   ]
  },
  {
   "cell_type": "code",
   "execution_count": 2,
   "metadata": {},
   "outputs": [
    {
     "data": {
      "image/png": "[encoded data removed]",
      "text/plain": [
       "<Figure size 432x288 with 1 Axes>"
      ]
     },
     "metadata": {
      "needs_background": "light"
     },
     "output_type": "display_data"
    }
   ],
   "source": [
    "# scatter plot of blobs dataset\n",
    "from sklearn.datasets import make_blobs\n",
    "from matplotlib import pyplot\n",
    "from numpy import where\n",
    "\n",
    "# generate 2d classification dataset\n",
    "X, y = make_blobs(n_samples=500, centers=3, n_features=2, cluster_std=2, random_state=2)\n",
    "\n",
    "# scatter plot for each class value\n",
    "for class_value in range(3):\n",
    "    # select indices of points with the class label\n",
    "    row_ix = where(y == class_value)\n",
    "\n",
    "    # scatter plot for points with a different color\n",
    "    pyplot.scatter(X[row_ix, 0], X[row_ix, 1])\n",
    "\n",
    "# show plot\n",
    "pyplot.show()"
   ]
  },
  {
   "cell_type": "markdown",
   "metadata": {},
   "source": [
    "Running the example creates a scatter plot of the entire dataset. We can see that the standard deviation of 2.0 means that the classes are not linearly separable (separable by a line), causing many ambiguous points. This is desirable because the problem is non-trivial and will allow a neural network model to find many different *good enough* candidate solutions resulting in a high variance."
   ]
  },
  {
   "cell_type": "markdown",
   "metadata": {},
   "source": [
    "### MLP Model for Multiclass Classification"
   ]
  },
  {
   "cell_type": "markdown",
   "metadata": {},
   "source": [
    "Now that we have defined a problem, we can define a model to address it. We will define a model that is perhaps under-constrained and not tuned to the problem. This is intentional to demonstrate the high variance of a neural network model seen on truly large and challenging supervised learning problems. \n",
    "\n",
    "The problem is a multiclass classification problem, and we will model it using a softmax activation function on the output layer. This means that the model will predict a vector with three elements with the probability that the sample belongs to each of the three classes. Therefore, the first step is to one-hot encode the class values."
   ]
  },
  {
   "cell_type": "code",
   "execution_count": 3,
   "metadata": {},
   "outputs": [],
   "source": [
    "from tensorflow.keras.utils import to_categorical\n",
    "\n",
    "y = to_categorical(y)"
   ]
  },
  {
   "cell_type": "markdown",
   "metadata": {},
   "source": [
    "Next, we must split the dataset into training and test sets. We will use the test set both to evaluate the model's performance and to plot its performance during training with a learning curve. We will use 30% of the data for training and 70% for the test set. This is an example of a challenging problem where we have more unlabeled examples than labeled ones."
   ]
  },
  {
   "cell_type": "code",
   "execution_count": 4,
   "metadata": {},
   "outputs": [],
   "source": [
    "# split into train and test\n",
    "n_train = int(0.3 * X.shape[0])\n",
    "\n",
    "trainX, testX = X[:n_train, :], X[n_train:, :]\n",
    "trainy, testy = y[:n_train], y[n_train:]"
   ]
  },
  {
   "cell_type": "markdown",
   "metadata": {},
   "source": [
    "Next, we can define and compile the model. The model will expect samples with two input variables. The model then has a single hidden layer with 15 nodes and a rectified linear activation function, an output layer with three nodes to predict the probability of each of the three classes, and a softmax activation function. Because the problem is multiclass, we will use the categorical cross-entropy loss function to optimize the model and the efficient Adam flavor of stochastic gradient descent."
   ]
  },
  {
   "cell_type": "code",
   "execution_count": 5,
   "metadata": {},
   "outputs": [],
   "source": [
    "from tensorflow.keras.models import Sequential\n",
    "from tensorflow.keras.layers import Dense\n",
    "\n",
    "# define model\n",
    "model = Sequential()\n",
    "model.add(Dense(15, input_dim=2, activation='relu'))\n",
    "model.add(Dense(3, activation='softmax'))\n",
    "model.compile(loss='categorical_crossentropy', optimizer='adam', metrics=['accuracy'])"
   ]
  },
  {
   "cell_type": "markdown",
   "metadata": {},
   "source": [
    "The model is fit for 200 training epochs, and we will evaluate each epoch on the test set, using the test set as a validation set."
   ]
  },
  {
   "cell_type": "code",
   "execution_count": 6,
   "metadata": {},
   "outputs": [
    {
     "name": "stdout",
     "output_type": "stream",
     "text": [
      "Epoch 1/200\n",
      "5/5 [==============================] - 2s 76ms/step - loss: 1.4741 - accuracy: 0.4318 - val_loss: 1.6042 - val_accuracy: 0.3371\n",
      "Epoch 2/200\n",
      "5/5 [==============================] - 0s 8ms/step - loss: 1.4272 - accuracy: 0.4144 - val_loss: 1.5493 - val_accuracy: 0.3371\n",
      "Epoch 3/200\n",
      "5/5 [==============================] - 0s 8ms/step - loss: 1.3817 - accuracy: 0.4465 - val_loss: 1.4973 - val_accuracy: 0.3400\n",
      "Epoch 4/200\n",
      "5/5 [==============================] - 0s 8ms/step - loss: 1.2633 - accuracy: 0.4705 - val_loss: 1.4479 - val_accuracy: 0.3343\n",
      "Epoch 5/200\n",
      "5/5 [==============================] - 0s 8ms/step - loss: 1.3297 - accuracy: 0.4193 - val_loss: 1.4011 - val_accuracy: 0.3429\n",
      "Epoch 6/200\n",
      "5/5 [==============================] - 0s 8ms/step - loss: 1.1513 - accuracy: 0.4627 - val_loss: 1.3580 - val_accuracy: 0.3543\n",
      "Epoch 7/200\n",
      "5/5 [==============================] - 0s 8ms/step - loss: 1.1475 - accuracy: 0.4798 - val_loss: 1.3178 - val_accuracy: 0.3629\n",
      "Epoch 8/200\n",
      "5/5 [==============================] - 0s 8ms/step - loss: 1.1207 - accuracy: 0.4917 - val_loss: 1.2806 - val_accuracy: 0.3686\n",
      "Epoch 9/200\n",
      "5/5 [==============================] - 0s 8ms/step - loss: 1.1733 - accuracy: 0.4850 - val_loss: 1.2456 - val_accuracy: 0.3800\n",
      "Epoch 10/200\n",
      "5/5 [==============================] - 0s 8ms/step - loss: 1.0705 - accuracy: 0.5423 - val_loss: 1.2147 - val_accuracy: 0.3857\n",
      "Epoch 11/200\n",
      "5/5 [==============================] - 0s 8ms/step - loss: 1.0429 - accuracy: 0.5037 - val_loss: 1.1873 - val_accuracy: 0.3971\n",
      "Epoch 12/200\n",
      "5/5 [==============================] - 0s 8ms/step - loss: 1.0430 - accuracy: 0.4898 - val_loss: 1.1629 - val_accuracy: 0.4143\n",
      "Epoch 13/200\n",
      "5/5 [==============================] - 0s 23ms/step - loss: 0.9961 - accuracy: 0.5508 - val_loss: 1.1417 - val_accuracy: 0.4200\n",
      "Epoch 14/200\n",
      "5/5 [==============================] - 0s 8ms/step - loss: 0.9692 - accuracy: 0.5290 - val_loss: 1.1239 - val_accuracy: 0.4229\n",
      "Epoch 15/200\n",
      "5/5 [==============================] - 0s 8ms/step - loss: 0.9318 - accuracy: 0.5593 - val_loss: 1.1074 - val_accuracy: 0.4371\n",
      "Epoch 16/200\n",
      "5/5 [==============================] - 0s 8ms/step - loss: 0.8804 - accuracy: 0.5807 - val_loss: 1.0927 - val_accuracy: 0.4371\n",
      "Epoch 17/200\n",
      "5/5 [==============================] - 0s 8ms/step - loss: 0.8850 - accuracy: 0.5438 - val_loss: 1.0800 - val_accuracy: 0.4429\n",
      "Epoch 18/200\n",
      "5/5 [==============================] - 0s 7ms/step - loss: 0.8985 - accuracy: 0.5624 - val_loss: 1.0676 - val_accuracy: 0.4429\n",
      "Epoch 19/200\n",
      "5/5 [==============================] - 0s 8ms/step - loss: 0.8813 - accuracy: 0.5551 - val_loss: 1.0560 - val_accuracy: 0.4514\n",
      "Epoch 20/200\n",
      "5/5 [==============================] - 0s 8ms/step - loss: 0.9218 - accuracy: 0.5291 - val_loss: 1.0454 - val_accuracy: 0.4543\n",
      "Epoch 21/200\n",
      "5/5 [==============================] - 0s 8ms/step - loss: 0.8334 - accuracy: 0.5859 - val_loss: 1.0362 - val_accuracy: 0.4543\n",
      "Epoch 22/200\n",
      "5/5 [==============================] - 0s 8ms/step - loss: 0.8894 - accuracy: 0.5208 - val_loss: 1.0264 - val_accuracy: 0.4543\n",
      "Epoch 23/200\n",
      "5/5 [==============================] - 0s 7ms/step - loss: 0.8050 - accuracy: 0.5786 - val_loss: 1.0174 - val_accuracy: 0.4571\n",
      "Epoch 24/200\n",
      "5/5 [==============================] - 0s 8ms/step - loss: 0.9113 - accuracy: 0.5014 - val_loss: 1.0080 - val_accuracy: 0.4600\n",
      "Epoch 25/200\n",
      "5/5 [==============================] - 0s 8ms/step - loss: 0.8196 - accuracy: 0.5665 - val_loss: 0.9990 - val_accuracy: 0.4657\n",
      "Epoch 26/200\n",
      "5/5 [==============================] - 0s 8ms/step - loss: 0.7910 - accuracy: 0.5853 - val_loss: 0.9902 - val_accuracy: 0.4657\n",
      "Epoch 27/200\n",
      "5/5 [==============================] - 0s 8ms/step - loss: 0.8030 - accuracy: 0.6061 - val_loss: 0.9810 - val_accuracy: 0.4686\n",
      "Epoch 28/200\n",
      "5/5 [==============================] - 0s 8ms/step - loss: 0.7643 - accuracy: 0.6096 - val_loss: 0.9720 - val_accuracy: 0.4800\n",
      "Epoch 29/200\n",
      "5/5 [==============================] - 0s 8ms/step - loss: 0.8098 - accuracy: 0.5879 - val_loss: 0.9630 - val_accuracy: 0.4857\n",
      "Epoch 30/200\n",
      "5/5 [==============================] - 0s 8ms/step - loss: 0.8283 - accuracy: 0.5624 - val_loss: 0.9543 - val_accuracy: 0.4857\n",
      "Epoch 31/200\n",
      "5/5 [==============================] - 0s 8ms/step - loss: 0.7379 - accuracy: 0.6010 - val_loss: 0.9464 - val_accuracy: 0.4914\n",
      "Epoch 32/200\n",
      "5/5 [==============================] - 0s 8ms/step - loss: 0.7606 - accuracy: 0.5932 - val_loss: 0.9391 - val_accuracy: 0.4971\n",
      "Epoch 33/200\n",
      "5/5 [==============================] - 0s 8ms/step - loss: 0.7201 - accuracy: 0.6079 - val_loss: 0.9317 - val_accuracy: 0.5000\n",
      "Epoch 34/200\n",
      "5/5 [==============================] - 0s 8ms/step - loss: 0.7574 - accuracy: 0.5849 - val_loss: 0.9240 - val_accuracy: 0.5000\n",
      "Epoch 35/200\n",
      "5/5 [==============================] - 0s 8ms/step - loss: 0.7172 - accuracy: 0.6110 - val_loss: 0.9164 - val_accuracy: 0.5057\n",
      "Epoch 36/200\n",
      "5/5 [==============================] - 0s 8ms/step - loss: 0.6929 - accuracy: 0.6219 - val_loss: 0.9091 - val_accuracy: 0.5057\n",
      "Epoch 37/200\n",
      "5/5 [==============================] - 0s 8ms/step - loss: 0.7367 - accuracy: 0.5806 - val_loss: 0.9017 - val_accuracy: 0.5114\n",
      "Epoch 38/200\n",
      "5/5 [==============================] - 0s 8ms/step - loss: 0.7124 - accuracy: 0.6145 - val_loss: 0.8945 - val_accuracy: 0.5114\n",
      "Epoch 39/200\n",
      "5/5 [==============================] - 0s 8ms/step - loss: 0.6812 - accuracy: 0.6314 - val_loss: 0.8881 - val_accuracy: 0.5200\n",
      "Epoch 40/200\n",
      "5/5 [==============================] - 0s 9ms/step - loss: 0.6899 - accuracy: 0.6193 - val_loss: 0.8808 - val_accuracy: 0.5229\n",
      "Epoch 41/200\n",
      "5/5 [==============================] - 0s 8ms/step - loss: 0.6620 - accuracy: 0.6236 - val_loss: 0.8746 - val_accuracy: 0.5257\n",
      "Epoch 42/200\n",
      "5/5 [==============================] - 0s 8ms/step - loss: 0.6992 - accuracy: 0.5763 - val_loss: 0.8677 - val_accuracy: 0.5343\n",
      "Epoch 43/200\n",
      "5/5 [==============================] - 0s 9ms/step - loss: 0.6582 - accuracy: 0.6136 - val_loss: 0.8614 - val_accuracy: 0.5400\n",
      "Epoch 44/200\n",
      "5/5 [==============================] - 0s 8ms/step - loss: 0.6687 - accuracy: 0.5832 - val_loss: 0.8548 - val_accuracy: 0.5400\n",
      "Epoch 45/200\n",
      "5/5 [==============================] - 0s 8ms/step - loss: 0.6460 - accuracy: 0.6110 - val_loss: 0.8482 - val_accuracy: 0.5457\n",
      "Epoch 46/200\n",
      "5/5 [==============================] - 0s 8ms/step - loss: 0.6412 - accuracy: 0.6020 - val_loss: 0.8424 - val_accuracy: 0.5514\n",
      "Epoch 47/200\n",
      "5/5 [==============================] - 0s 8ms/step - loss: 0.6657 - accuracy: 0.6124 - val_loss: 0.8364 - val_accuracy: 0.5571\n",
      "Epoch 48/200\n",
      "5/5 [==============================] - 0s 8ms/step - loss: 0.6542 - accuracy: 0.6107 - val_loss: 0.8302 - val_accuracy: 0.5571\n",
      "Epoch 49/200\n",
      "5/5 [==============================] - 0s 8ms/step - loss: 0.6459 - accuracy: 0.6073 - val_loss: 0.8240 - val_accuracy: 0.5657\n",
      "Epoch 50/200\n",
      "5/5 [==============================] - 0s 8ms/step - loss: 0.6203 - accuracy: 0.6277 - val_loss: 0.8183 - val_accuracy: 0.5743\n",
      "Epoch 51/200\n",
      "5/5 [==============================] - 0s 8ms/step - loss: 0.6418 - accuracy: 0.6151 - val_loss: 0.8128 - val_accuracy: 0.5857\n",
      "Epoch 52/200\n",
      "5/5 [==============================] - 0s 8ms/step - loss: 0.6321 - accuracy: 0.6113 - val_loss: 0.8069 - val_accuracy: 0.5943\n",
      "Epoch 53/200\n",
      "5/5 [==============================] - 0s 8ms/step - loss: 0.5987 - accuracy: 0.6217 - val_loss: 0.8021 - val_accuracy: 0.6000\n",
      "Epoch 54/200\n",
      "5/5 [==============================] - 0s 8ms/step - loss: 0.5916 - accuracy: 0.6769 - val_loss: 0.7968 - val_accuracy: 0.6029\n",
      "Epoch 55/200\n",
      "5/5 [==============================] - 0s 23ms/step - loss: 0.6315 - accuracy: 0.6349 - val_loss: 0.7922 - val_accuracy: 0.6171\n",
      "Epoch 56/200\n",
      "5/5 [==============================] - 0s 8ms/step - loss: 0.5905 - accuracy: 0.6697 - val_loss: 0.7879 - val_accuracy: 0.6257\n",
      "Epoch 57/200\n",
      "5/5 [==============================] - 0s 8ms/step - loss: 0.6250 - accuracy: 0.6276 - val_loss: 0.7836 - val_accuracy: 0.6286\n",
      "Epoch 58/200\n",
      "5/5 [==============================] - 0s 8ms/step - loss: 0.6119 - accuracy: 0.6486 - val_loss: 0.7793 - val_accuracy: 0.6371\n",
      "Epoch 59/200\n"
     ]
    },
    {
     "name": "stdout",
     "output_type": "stream",
     "text": [
      "5/5 [==============================] - 0s 8ms/step - loss: 0.6058 - accuracy: 0.6904 - val_loss: 0.7750 - val_accuracy: 0.6400\n",
      "Epoch 60/200\n",
      "5/5 [==============================] - 0s 8ms/step - loss: 0.5672 - accuracy: 0.7216 - val_loss: 0.7710 - val_accuracy: 0.6429\n",
      "Epoch 61/200\n",
      "5/5 [==============================] - 0s 8ms/step - loss: 0.5467 - accuracy: 0.6956 - val_loss: 0.7676 - val_accuracy: 0.6486\n",
      "Epoch 62/200\n",
      "5/5 [==============================] - 0s 8ms/step - loss: 0.5629 - accuracy: 0.6891 - val_loss: 0.7641 - val_accuracy: 0.6486\n",
      "Epoch 63/200\n",
      "5/5 [==============================] - 0s 8ms/step - loss: 0.5748 - accuracy: 0.7003 - val_loss: 0.7610 - val_accuracy: 0.6600\n",
      "Epoch 64/200\n",
      "5/5 [==============================] - 0s 8ms/step - loss: 0.5199 - accuracy: 0.7269 - val_loss: 0.7585 - val_accuracy: 0.6600\n",
      "Epoch 65/200\n",
      "5/5 [==============================] - 0s 8ms/step - loss: 0.5037 - accuracy: 0.7313 - val_loss: 0.7557 - val_accuracy: 0.6714\n",
      "Epoch 66/200\n",
      "5/5 [==============================] - 0s 7ms/step - loss: 0.5428 - accuracy: 0.7291 - val_loss: 0.7524 - val_accuracy: 0.6714\n",
      "Epoch 67/200\n",
      "5/5 [==============================] - 0s 8ms/step - loss: 0.5243 - accuracy: 0.7282 - val_loss: 0.7495 - val_accuracy: 0.6714\n",
      "Epoch 68/200\n",
      "5/5 [==============================] - 0s 8ms/step - loss: 0.5300 - accuracy: 0.7278 - val_loss: 0.7465 - val_accuracy: 0.6771\n",
      "Epoch 69/200\n",
      "5/5 [==============================] - 0s 8ms/step - loss: 0.5212 - accuracy: 0.7257 - val_loss: 0.7441 - val_accuracy: 0.6857\n",
      "Epoch 70/200\n",
      "5/5 [==============================] - 0s 8ms/step - loss: 0.5523 - accuracy: 0.7114 - val_loss: 0.7420 - val_accuracy: 0.6857\n",
      "Epoch 71/200\n",
      "5/5 [==============================] - 0s 8ms/step - loss: 0.5397 - accuracy: 0.7061 - val_loss: 0.7401 - val_accuracy: 0.6886\n",
      "Epoch 72/200\n",
      "5/5 [==============================] - 0s 8ms/step - loss: 0.5185 - accuracy: 0.7587 - val_loss: 0.7377 - val_accuracy: 0.6886\n",
      "Epoch 73/200\n",
      "5/5 [==============================] - 0s 8ms/step - loss: 0.5323 - accuracy: 0.7019 - val_loss: 0.7355 - val_accuracy: 0.6857\n",
      "Epoch 74/200\n",
      "5/5 [==============================] - 0s 8ms/step - loss: 0.5449 - accuracy: 0.7153 - val_loss: 0.7332 - val_accuracy: 0.6857\n",
      "Epoch 75/200\n",
      "5/5 [==============================] - 0s 8ms/step - loss: 0.5019 - accuracy: 0.7331 - val_loss: 0.7313 - val_accuracy: 0.6857\n",
      "Epoch 76/200\n",
      "5/5 [==============================] - 0s 9ms/step - loss: 0.5160 - accuracy: 0.7374 - val_loss: 0.7296 - val_accuracy: 0.6857\n",
      "Epoch 77/200\n",
      "5/5 [==============================] - 0s 8ms/step - loss: 0.5179 - accuracy: 0.7306 - val_loss: 0.7275 - val_accuracy: 0.6857\n",
      "Epoch 78/200\n",
      "5/5 [==============================] - 0s 9ms/step - loss: 0.4655 - accuracy: 0.7718 - val_loss: 0.7257 - val_accuracy: 0.6857\n",
      "Epoch 79/200\n",
      "5/5 [==============================] - 0s 9ms/step - loss: 0.4946 - accuracy: 0.7132 - val_loss: 0.7245 - val_accuracy: 0.6857\n",
      "Epoch 80/200\n",
      "5/5 [==============================] - 0s 8ms/step - loss: 0.5113 - accuracy: 0.7363 - val_loss: 0.7226 - val_accuracy: 0.6857\n",
      "Epoch 81/200\n",
      "5/5 [==============================] - 0s 8ms/step - loss: 0.4839 - accuracy: 0.7593 - val_loss: 0.7217 - val_accuracy: 0.6857\n",
      "Epoch 82/200\n",
      "5/5 [==============================] - 0s 8ms/step - loss: 0.4729 - accuracy: 0.7715 - val_loss: 0.7203 - val_accuracy: 0.6857\n",
      "Epoch 83/200\n",
      "5/5 [==============================] - 0s 8ms/step - loss: 0.4855 - accuracy: 0.7619 - val_loss: 0.7192 - val_accuracy: 0.6857\n",
      "Epoch 84/200\n",
      "5/5 [==============================] - 0s 9ms/step - loss: 0.5148 - accuracy: 0.7328 - val_loss: 0.7172 - val_accuracy: 0.6886\n",
      "Epoch 85/200\n",
      "5/5 [==============================] - 0s 8ms/step - loss: 0.4769 - accuracy: 0.7501 - val_loss: 0.7161 - val_accuracy: 0.6886\n",
      "Epoch 86/200\n",
      "5/5 [==============================] - 0s 8ms/step - loss: 0.4952 - accuracy: 0.7485 - val_loss: 0.7150 - val_accuracy: 0.6886\n",
      "Epoch 87/200\n",
      "5/5 [==============================] - 0s 8ms/step - loss: 0.4765 - accuracy: 0.7819 - val_loss: 0.7136 - val_accuracy: 0.6886\n",
      "Epoch 88/200\n",
      "5/5 [==============================] - 0s 8ms/step - loss: 0.4889 - accuracy: 0.7580 - val_loss: 0.7120 - val_accuracy: 0.6886\n",
      "Epoch 89/200\n",
      "5/5 [==============================] - 0s 8ms/step - loss: 0.4907 - accuracy: 0.7415 - val_loss: 0.7105 - val_accuracy: 0.6886\n",
      "Epoch 90/200\n",
      "5/5 [==============================] - 0s 9ms/step - loss: 0.4950 - accuracy: 0.7498 - val_loss: 0.7092 - val_accuracy: 0.6886\n",
      "Epoch 91/200\n",
      "5/5 [==============================] - 0s 8ms/step - loss: 0.5071 - accuracy: 0.7133 - val_loss: 0.7080 - val_accuracy: 0.6886\n",
      "Epoch 92/200\n",
      "5/5 [==============================] - 0s 8ms/step - loss: 0.5048 - accuracy: 0.7268 - val_loss: 0.7069 - val_accuracy: 0.6886\n",
      "Epoch 93/200\n",
      "5/5 [==============================] - 0s 9ms/step - loss: 0.5126 - accuracy: 0.7263 - val_loss: 0.7054 - val_accuracy: 0.6886\n",
      "Epoch 94/200\n",
      "5/5 [==============================] - 0s 8ms/step - loss: 0.4798 - accuracy: 0.7367 - val_loss: 0.7045 - val_accuracy: 0.6886\n",
      "Epoch 95/200\n",
      "5/5 [==============================] - 0s 8ms/step - loss: 0.4751 - accuracy: 0.7615 - val_loss: 0.7035 - val_accuracy: 0.6886\n",
      "Epoch 96/200\n",
      "5/5 [==============================] - 0s 8ms/step - loss: 0.5110 - accuracy: 0.7281 - val_loss: 0.7026 - val_accuracy: 0.6886\n",
      "Epoch 97/200\n",
      "5/5 [==============================] - 0s 9ms/step - loss: 0.4884 - accuracy: 0.7189 - val_loss: 0.7019 - val_accuracy: 0.6886\n",
      "Epoch 98/200\n",
      "5/5 [==============================] - 0s 8ms/step - loss: 0.4651 - accuracy: 0.7528 - val_loss: 0.7013 - val_accuracy: 0.6886\n",
      "Epoch 99/200\n",
      "5/5 [==============================] - 0s 8ms/step - loss: 0.4926 - accuracy: 0.7367 - val_loss: 0.7004 - val_accuracy: 0.6886\n",
      "Epoch 100/200\n",
      "5/5 [==============================] - 0s 8ms/step - loss: 0.4799 - accuracy: 0.7411 - val_loss: 0.6992 - val_accuracy: 0.6943\n",
      "Epoch 101/200\n",
      "5/5 [==============================] - 0s 9ms/step - loss: 0.4878 - accuracy: 0.7315 - val_loss: 0.6980 - val_accuracy: 0.6943\n",
      "Epoch 102/200\n",
      "5/5 [==============================] - 0s 8ms/step - loss: 0.5033 - accuracy: 0.7202 - val_loss: 0.6974 - val_accuracy: 0.6943\n",
      "Epoch 103/200\n",
      "5/5 [==============================] - 0s 8ms/step - loss: 0.4726 - accuracy: 0.7502 - val_loss: 0.6969 - val_accuracy: 0.6943\n",
      "Epoch 104/200\n",
      "5/5 [==============================] - 0s 8ms/step - loss: 0.4074 - accuracy: 0.7953 - val_loss: 0.6963 - val_accuracy: 0.6971\n",
      "Epoch 105/200\n",
      "5/5 [==============================] - 0s 8ms/step - loss: 0.4365 - accuracy: 0.7771 - val_loss: 0.6961 - val_accuracy: 0.6971\n",
      "Epoch 106/200\n",
      "5/5 [==============================] - 0s 8ms/step - loss: 0.4328 - accuracy: 0.7888 - val_loss: 0.6946 - val_accuracy: 0.6971\n",
      "Epoch 107/200\n",
      "5/5 [==============================] - 0s 25ms/step - loss: 0.4757 - accuracy: 0.7351 - val_loss: 0.6930 - val_accuracy: 0.6971\n",
      "Epoch 108/200\n",
      "5/5 [==============================] - 0s 8ms/step - loss: 0.4820 - accuracy: 0.7498 - val_loss: 0.6918 - val_accuracy: 0.6971\n",
      "Epoch 109/200\n",
      "5/5 [==============================] - 0s 8ms/step - loss: 0.4571 - accuracy: 0.7742 - val_loss: 0.6910 - val_accuracy: 0.6943\n",
      "Epoch 110/200\n",
      "5/5 [==============================] - 0s 8ms/step - loss: 0.4690 - accuracy: 0.7646 - val_loss: 0.6904 - val_accuracy: 0.7000\n",
      "Epoch 111/200\n",
      "5/5 [==============================] - 0s 9ms/step - loss: 0.4555 - accuracy: 0.7498 - val_loss: 0.6896 - val_accuracy: 0.7000\n",
      "Epoch 112/200\n",
      "5/5 [==============================] - 0s 9ms/step - loss: 0.4785 - accuracy: 0.7528 - val_loss: 0.6890 - val_accuracy: 0.7000\n",
      "Epoch 113/200\n",
      "5/5 [==============================] - 0s 8ms/step - loss: 0.4685 - accuracy: 0.7489 - val_loss: 0.6887 - val_accuracy: 0.7029\n",
      "Epoch 114/200\n",
      "5/5 [==============================] - 0s 8ms/step - loss: 0.4981 - accuracy: 0.7116 - val_loss: 0.6881 - val_accuracy: 0.7029\n",
      "Epoch 115/200\n",
      "5/5 [==============================] - 0s 8ms/step - loss: 0.4665 - accuracy: 0.7633 - val_loss: 0.6876 - val_accuracy: 0.7029\n",
      "Epoch 116/200\n",
      "5/5 [==============================] - 0s 8ms/step - loss: 0.4597 - accuracy: 0.7789 - val_loss: 0.6870 - val_accuracy: 0.7029\n",
      "Epoch 117/200\n"
     ]
    },
    {
     "name": "stdout",
     "output_type": "stream",
     "text": [
      "5/5 [==============================] - 0s 8ms/step - loss: 0.4621 - accuracy: 0.7277 - val_loss: 0.6862 - val_accuracy: 0.7029\n",
      "Epoch 118/200\n",
      "5/5 [==============================] - 0s 8ms/step - loss: 0.4600 - accuracy: 0.7320 - val_loss: 0.6853 - val_accuracy: 0.7029\n",
      "Epoch 119/200\n",
      "5/5 [==============================] - 0s 8ms/step - loss: 0.4365 - accuracy: 0.7915 - val_loss: 0.6842 - val_accuracy: 0.7029\n",
      "Epoch 120/200\n",
      "5/5 [==============================] - 0s 8ms/step - loss: 0.4380 - accuracy: 0.7585 - val_loss: 0.6830 - val_accuracy: 0.7029\n",
      "Epoch 121/200\n",
      "5/5 [==============================] - 0s 8ms/step - loss: 0.4588 - accuracy: 0.7598 - val_loss: 0.6822 - val_accuracy: 0.7057\n",
      "Epoch 122/200\n",
      "5/5 [==============================] - 0s 8ms/step - loss: 0.4771 - accuracy: 0.7225 - val_loss: 0.6814 - val_accuracy: 0.7057\n",
      "Epoch 123/200\n",
      "5/5 [==============================] - 0s 8ms/step - loss: 0.4295 - accuracy: 0.7720 - val_loss: 0.6809 - val_accuracy: 0.7057\n",
      "Epoch 124/200\n",
      "5/5 [==============================] - 0s 8ms/step - loss: 0.4209 - accuracy: 0.7820 - val_loss: 0.6805 - val_accuracy: 0.7057\n",
      "Epoch 125/200\n",
      "5/5 [==============================] - 0s 8ms/step - loss: 0.4401 - accuracy: 0.7594 - val_loss: 0.6800 - val_accuracy: 0.7086\n",
      "Epoch 126/200\n",
      "5/5 [==============================] - 0s 8ms/step - loss: 0.4472 - accuracy: 0.7516 - val_loss: 0.6794 - val_accuracy: 0.7086\n",
      "Epoch 127/200\n",
      "5/5 [==============================] - 0s 8ms/step - loss: 0.4269 - accuracy: 0.7768 - val_loss: 0.6784 - val_accuracy: 0.7086\n",
      "Epoch 128/200\n",
      "5/5 [==============================] - 0s 8ms/step - loss: 0.4906 - accuracy: 0.7299 - val_loss: 0.6774 - val_accuracy: 0.7143\n",
      "Epoch 129/200\n",
      "5/5 [==============================] - 0s 8ms/step - loss: 0.4101 - accuracy: 0.7829 - val_loss: 0.6769 - val_accuracy: 0.7114\n",
      "Epoch 130/200\n",
      "5/5 [==============================] - 0s 8ms/step - loss: 0.4045 - accuracy: 0.7941 - val_loss: 0.6762 - val_accuracy: 0.7114\n",
      "Epoch 131/200\n",
      "5/5 [==============================] - 0s 8ms/step - loss: 0.5045 - accuracy: 0.7274 - val_loss: 0.6748 - val_accuracy: 0.7143\n",
      "Epoch 132/200\n",
      "5/5 [==============================] - 0s 8ms/step - loss: 0.4619 - accuracy: 0.7473 - val_loss: 0.6744 - val_accuracy: 0.7114\n",
      "Epoch 133/200\n",
      "5/5 [==============================] - 0s 8ms/step - loss: 0.4508 - accuracy: 0.7443 - val_loss: 0.6735 - val_accuracy: 0.7143\n",
      "Epoch 134/200\n",
      "5/5 [==============================] - 0s 8ms/step - loss: 0.4535 - accuracy: 0.7856 - val_loss: 0.6727 - val_accuracy: 0.7143\n",
      "Epoch 135/200\n",
      "5/5 [==============================] - 0s 8ms/step - loss: 0.4505 - accuracy: 0.7487 - val_loss: 0.6718 - val_accuracy: 0.7171\n",
      "Epoch 136/200\n",
      "5/5 [==============================] - 0s 8ms/step - loss: 0.4197 - accuracy: 0.7777 - val_loss: 0.6713 - val_accuracy: 0.7171\n",
      "Epoch 137/200\n",
      "5/5 [==============================] - 0s 8ms/step - loss: 0.4606 - accuracy: 0.7482 - val_loss: 0.6703 - val_accuracy: 0.7200\n",
      "Epoch 138/200\n",
      "5/5 [==============================] - 0s 8ms/step - loss: 0.4508 - accuracy: 0.7756 - val_loss: 0.6697 - val_accuracy: 0.7200\n",
      "Epoch 139/200\n",
      "5/5 [==============================] - 0s 7ms/step - loss: 0.4734 - accuracy: 0.7378 - val_loss: 0.6687 - val_accuracy: 0.7200\n",
      "Epoch 140/200\n",
      "5/5 [==============================] - 0s 8ms/step - loss: 0.4351 - accuracy: 0.7903 - val_loss: 0.6683 - val_accuracy: 0.7200\n",
      "Epoch 141/200\n",
      "5/5 [==============================] - 0s 8ms/step - loss: 0.3795 - accuracy: 0.8129 - val_loss: 0.6681 - val_accuracy: 0.7229\n",
      "Epoch 142/200\n",
      "5/5 [==============================] - 0s 8ms/step - loss: 0.4376 - accuracy: 0.7534 - val_loss: 0.6671 - val_accuracy: 0.7229\n",
      "Epoch 143/200\n",
      "5/5 [==============================] - 0s 8ms/step - loss: 0.3685 - accuracy: 0.7951 - val_loss: 0.6666 - val_accuracy: 0.7229\n",
      "Epoch 144/200\n",
      "5/5 [==============================] - 0s 8ms/step - loss: 0.4318 - accuracy: 0.7717 - val_loss: 0.6659 - val_accuracy: 0.7229\n",
      "Epoch 145/200\n",
      "5/5 [==============================] - 0s 7ms/step - loss: 0.3843 - accuracy: 0.7986 - val_loss: 0.6654 - val_accuracy: 0.7229\n",
      "Epoch 146/200\n",
      "5/5 [==============================] - 0s 7ms/step - loss: 0.4510 - accuracy: 0.7709 - val_loss: 0.6644 - val_accuracy: 0.7229\n",
      "Epoch 147/200\n",
      "5/5 [==============================] - 0s 8ms/step - loss: 0.4326 - accuracy: 0.7738 - val_loss: 0.6635 - val_accuracy: 0.7229\n",
      "Epoch 148/200\n",
      "5/5 [==============================] - 0s 8ms/step - loss: 0.3926 - accuracy: 0.8007 - val_loss: 0.6629 - val_accuracy: 0.7229\n",
      "Epoch 149/200\n",
      "5/5 [==============================] - 0s 8ms/step - loss: 0.4576 - accuracy: 0.7621 - val_loss: 0.6621 - val_accuracy: 0.7286\n",
      "Epoch 150/200\n",
      "5/5 [==============================] - 0s 23ms/step - loss: 0.4262 - accuracy: 0.7643 - val_loss: 0.6614 - val_accuracy: 0.7286\n",
      "Epoch 151/200\n",
      "5/5 [==============================] - 0s 8ms/step - loss: 0.4279 - accuracy: 0.7539 - val_loss: 0.6611 - val_accuracy: 0.7286\n",
      "Epoch 152/200\n",
      "5/5 [==============================] - 0s 8ms/step - loss: 0.4327 - accuracy: 0.7791 - val_loss: 0.6610 - val_accuracy: 0.7286\n",
      "Epoch 153/200\n",
      "5/5 [==============================] - 0s 9ms/step - loss: 0.4336 - accuracy: 0.7961 - val_loss: 0.6605 - val_accuracy: 0.7286\n",
      "Epoch 154/200\n",
      "5/5 [==============================] - 0s 8ms/step - loss: 0.3760 - accuracy: 0.8077 - val_loss: 0.6606 - val_accuracy: 0.7286\n",
      "Epoch 155/200\n",
      "5/5 [==============================] - 0s 8ms/step - loss: 0.4127 - accuracy: 0.7669 - val_loss: 0.6601 - val_accuracy: 0.7286\n",
      "Epoch 156/200\n",
      "5/5 [==============================] - 0s 8ms/step - loss: 0.4234 - accuracy: 0.7808 - val_loss: 0.6595 - val_accuracy: 0.7286\n",
      "Epoch 157/200\n",
      "5/5 [==============================] - 0s 9ms/step - loss: 0.4293 - accuracy: 0.7830 - val_loss: 0.6586 - val_accuracy: 0.7286\n",
      "Epoch 158/200\n",
      "5/5 [==============================] - 0s 8ms/step - loss: 0.4103 - accuracy: 0.7956 - val_loss: 0.6580 - val_accuracy: 0.7286\n",
      "Epoch 159/200\n",
      "5/5 [==============================] - 0s 8ms/step - loss: 0.4746 - accuracy: 0.7522 - val_loss: 0.6570 - val_accuracy: 0.7314\n",
      "Epoch 160/200\n",
      "5/5 [==============================] - 0s 8ms/step - loss: 0.4502 - accuracy: 0.7731 - val_loss: 0.6566 - val_accuracy: 0.7286\n",
      "Epoch 161/200\n",
      "5/5 [==============================] - 0s 7ms/step - loss: 0.3989 - accuracy: 0.7974 - val_loss: 0.6559 - val_accuracy: 0.7286\n",
      "Epoch 162/200\n",
      "5/5 [==============================] - 0s 7ms/step - loss: 0.4356 - accuracy: 0.7784 - val_loss: 0.6555 - val_accuracy: 0.7286\n",
      "Epoch 163/200\n",
      "5/5 [==============================] - 0s 8ms/step - loss: 0.3744 - accuracy: 0.8218 - val_loss: 0.6550 - val_accuracy: 0.7286\n",
      "Epoch 164/200\n",
      "5/5 [==============================] - 0s 8ms/step - loss: 0.4327 - accuracy: 0.7875 - val_loss: 0.6540 - val_accuracy: 0.7286\n",
      "Epoch 165/200\n",
      "5/5 [==============================] - 0s 8ms/step - loss: 0.4068 - accuracy: 0.8106 - val_loss: 0.6536 - val_accuracy: 0.7286\n",
      "Epoch 166/200\n",
      "5/5 [==============================] - 0s 8ms/step - loss: 0.4222 - accuracy: 0.8158 - val_loss: 0.6532 - val_accuracy: 0.7286\n",
      "Epoch 167/200\n",
      "5/5 [==============================] - 0s 8ms/step - loss: 0.4110 - accuracy: 0.7980 - val_loss: 0.6527 - val_accuracy: 0.7314\n",
      "Epoch 168/200\n",
      "5/5 [==============================] - 0s 8ms/step - loss: 0.4197 - accuracy: 0.8140 - val_loss: 0.6523 - val_accuracy: 0.7314\n",
      "Epoch 169/200\n",
      "5/5 [==============================] - 0s 8ms/step - loss: 0.4217 - accuracy: 0.8197 - val_loss: 0.6515 - val_accuracy: 0.7286\n",
      "Epoch 170/200\n",
      "5/5 [==============================] - 0s 8ms/step - loss: 0.3946 - accuracy: 0.8080 - val_loss: 0.6506 - val_accuracy: 0.7286\n",
      "Epoch 171/200\n",
      "5/5 [==============================] - 0s 8ms/step - loss: 0.4160 - accuracy: 0.7958 - val_loss: 0.6500 - val_accuracy: 0.7286\n",
      "Epoch 172/200\n",
      "5/5 [==============================] - 0s 8ms/step - loss: 0.4076 - accuracy: 0.7884 - val_loss: 0.6495 - val_accuracy: 0.7286\n",
      "Epoch 173/200\n",
      "5/5 [==============================] - 0s 8ms/step - loss: 0.4161 - accuracy: 0.7966 - val_loss: 0.6494 - val_accuracy: 0.7286\n",
      "Epoch 174/200\n",
      "5/5 [==============================] - 0s 8ms/step - loss: 0.4265 - accuracy: 0.8023 - val_loss: 0.6488 - val_accuracy: 0.7286\n",
      "Epoch 175/200\n"
     ]
    },
    {
     "name": "stdout",
     "output_type": "stream",
     "text": [
      "5/5 [==============================] - 0s 8ms/step - loss: 0.4040 - accuracy: 0.8036 - val_loss: 0.6483 - val_accuracy: 0.7286\n",
      "Epoch 176/200\n",
      "5/5 [==============================] - 0s 9ms/step - loss: 0.4155 - accuracy: 0.7941 - val_loss: 0.6478 - val_accuracy: 0.7286\n",
      "Epoch 177/200\n",
      "5/5 [==============================] - 0s 9ms/step - loss: 0.3967 - accuracy: 0.7919 - val_loss: 0.6473 - val_accuracy: 0.7286\n",
      "Epoch 178/200\n",
      "5/5 [==============================] - 0s 8ms/step - loss: 0.4118 - accuracy: 0.8219 - val_loss: 0.6467 - val_accuracy: 0.7286\n",
      "Epoch 179/200\n",
      "5/5 [==============================] - 0s 8ms/step - loss: 0.4160 - accuracy: 0.8040 - val_loss: 0.6462 - val_accuracy: 0.7286\n",
      "Epoch 180/200\n",
      "5/5 [==============================] - 0s 9ms/step - loss: 0.4075 - accuracy: 0.8132 - val_loss: 0.6452 - val_accuracy: 0.7286\n",
      "Epoch 181/200\n",
      "5/5 [==============================] - 0s 8ms/step - loss: 0.4079 - accuracy: 0.8106 - val_loss: 0.6440 - val_accuracy: 0.7314\n",
      "Epoch 182/200\n",
      "5/5 [==============================] - 0s 8ms/step - loss: 0.4400 - accuracy: 0.7797 - val_loss: 0.6429 - val_accuracy: 0.7343\n",
      "Epoch 183/200\n",
      "5/5 [==============================] - 0s 8ms/step - loss: 0.4321 - accuracy: 0.7993 - val_loss: 0.6423 - val_accuracy: 0.7343\n",
      "Epoch 184/200\n",
      "5/5 [==============================] - 0s 8ms/step - loss: 0.3899 - accuracy: 0.7863 - val_loss: 0.6423 - val_accuracy: 0.7343\n",
      "Epoch 185/200\n",
      "5/5 [==============================] - 0s 9ms/step - loss: 0.3875 - accuracy: 0.8244 - val_loss: 0.6419 - val_accuracy: 0.7343\n",
      "Epoch 186/200\n",
      "5/5 [==============================] - 0s 9ms/step - loss: 0.4303 - accuracy: 0.7949 - val_loss: 0.6415 - val_accuracy: 0.7371\n",
      "Epoch 187/200\n",
      "5/5 [==============================] - 0s 8ms/step - loss: 0.4351 - accuracy: 0.7985 - val_loss: 0.6405 - val_accuracy: 0.7371\n",
      "Epoch 188/200\n",
      "5/5 [==============================] - 0s 8ms/step - loss: 0.4419 - accuracy: 0.7806 - val_loss: 0.6397 - val_accuracy: 0.7371\n",
      "Epoch 189/200\n",
      "5/5 [==============================] - 0s 9ms/step - loss: 0.3930 - accuracy: 0.8236 - val_loss: 0.6398 - val_accuracy: 0.7314\n",
      "Epoch 190/200\n",
      "5/5 [==============================] - 0s 9ms/step - loss: 0.4564 - accuracy: 0.8002 - val_loss: 0.6391 - val_accuracy: 0.7343\n",
      "Epoch 191/200\n",
      "5/5 [==============================] - 0s 9ms/step - loss: 0.3470 - accuracy: 0.8449 - val_loss: 0.6387 - val_accuracy: 0.7343\n",
      "Epoch 192/200\n",
      "5/5 [==============================] - 0s 8ms/step - loss: 0.3687 - accuracy: 0.8388 - val_loss: 0.6381 - val_accuracy: 0.7343\n",
      "Epoch 193/200\n",
      "5/5 [==============================] - 0s 8ms/step - loss: 0.4281 - accuracy: 0.7959 - val_loss: 0.6372 - val_accuracy: 0.7343\n",
      "Epoch 194/200\n",
      "5/5 [==============================] - 0s 8ms/step - loss: 0.3691 - accuracy: 0.8371 - val_loss: 0.6366 - val_accuracy: 0.7343\n",
      "Epoch 195/200\n",
      "5/5 [==============================] - 0s 8ms/step - loss: 0.4179 - accuracy: 0.8037 - val_loss: 0.6361 - val_accuracy: 0.7343\n",
      "Epoch 196/200\n",
      "5/5 [==============================] - 0s 8ms/step - loss: 0.3847 - accuracy: 0.8345 - val_loss: 0.6358 - val_accuracy: 0.7371\n",
      "Epoch 197/200\n",
      "5/5 [==============================] - 0s 8ms/step - loss: 0.3980 - accuracy: 0.8202 - val_loss: 0.6351 - val_accuracy: 0.7343\n",
      "Epoch 198/200\n",
      "5/5 [==============================] - 0s 8ms/step - loss: 0.4378 - accuracy: 0.7624 - val_loss: 0.6343 - val_accuracy: 0.7371\n",
      "Epoch 199/200\n",
      "5/5 [==============================] - 0s 9ms/step - loss: 0.4346 - accuracy: 0.7759 - val_loss: 0.6335 - val_accuracy: 0.7371\n",
      "Epoch 200/200\n",
      "5/5 [==============================] - 0s 8ms/step - loss: 0.3943 - accuracy: 0.8106 - val_loss: 0.6332 - val_accuracy: 0.7371\n"
     ]
    }
   ],
   "source": [
    "# fit model\n",
    "history = model.fit(trainX, trainy, validation_data=(testX, testy), epochs=200, verbose=1)"
   ]
  },
  {
   "cell_type": "markdown",
   "metadata": {},
   "source": [
    "At the end of the run, we will evaluate the model's performance on both the train and the test sets."
   ]
  },
  {
   "cell_type": "code",
   "execution_count": 7,
   "metadata": {},
   "outputs": [
    {
     "name": "stdout",
     "output_type": "stream",
     "text": [
      "Train: 0.820, Test: 0.737\n"
     ]
    }
   ],
   "source": [
    "# evaluate the model\n",
    "_, train_acc = model.evaluate(trainX, trainy, verbose=0)\n",
    "_, test_acc = model.evaluate(testX, testy, verbose=0)\n",
    "print('Train: %.3f, Test: %.3f' % (train_acc, test_acc))"
   ]
  },
  {
   "cell_type": "markdown",
   "metadata": {},
   "source": [
    "Then finally, we will plot model loss and accuracy learning curves over each training epoch on both the training and test dataset."
   ]
  },
  {
   "cell_type": "code",
   "execution_count": 8,
   "metadata": {},
   "outputs": [
    {
     "data": {
      "image/png": "[encoded data removed]",
      "text/plain": [
       "<Figure size 432x288 with 2 Axes>"
      ]
     },
     "metadata": {
      "needs_background": "light"
     },
     "output_type": "display_data"
    }
   ],
   "source": [
    "# plot loss learning curves\n",
    "pyplot.subplot(211)\n",
    "pyplot.title('Cross-Entropy Loss', pad=-40)\n",
    "pyplot.plot(history.history['loss'], label='train')\n",
    "pyplot.plot(history.history['val_loss'], label='test')\n",
    "pyplot.legend()\n",
    "\n",
    "# plot accuracy learning curves\n",
    "pyplot.subplot(212)\n",
    "pyplot.title('Accuracy', pad=-40)\n",
    "pyplot.plot(history.history['accuracy'], label='train')\n",
    "pyplot.plot(history.history['val_accuracy'], label='test')\n",
    "pyplot.legend()\n",
    "\n",
    "pyplot.show()"
   ]
  },
  {
   "cell_type": "markdown",
   "metadata": {},
   "source": [
    "The complete example is listed below."
   ]
  },
  {
   "cell_type": "code",
   "execution_count": 9,
   "metadata": {},
   "outputs": [
    {
     "name": "stdout",
     "output_type": "stream",
     "text": [
      "Train: 0.847, Test: 0.771\n"
     ]
    }
   ],
   "source": [
    "# fit high variance mlp on blobs classification problem\n",
    "from sklearn.datasets import make_blobs\n",
    "from tensorflow.keras.utils import to_categorical\n",
    "from tensorflow.keras.models import Sequential\n",
    "from tensorflow.keras.layers import Dense\n",
    "from matplotlib import pyplot\n",
    "\n",
    "# generate 2d classification dataset\n",
    "X, y = make_blobs(n_samples=500, centers=3, n_features=2, cluster_std=2, random_state=2)\n",
    "y = to_categorical(y)\n",
    "\n",
    "# split into train and test\n",
    "n_train = int(0.3 * X.shape[0])\n",
    "trainX, testX = X[:n_train, :], X[n_train:, :]\n",
    "trainy, testy = y[:n_train], y[n_train:]\n",
    "\n",
    "# define model\n",
    "model = Sequential()\n",
    "model.add(Dense(15, input_dim=2, activation='relu'))\n",
    "model.add(Dense(3, activation='softmax'))\n",
    "model.compile(loss='categorical_crossentropy', optimizer='adam', metrics=['accuracy'])\n",
    "\n",
    "# fit model\n",
    "history = model.fit(trainX, trainy, validation_data=(testX, testy), epochs=200, verbose=0)\n",
    "\n",
    "# evaluate the model\n",
    "_, train_acc = model.evaluate(trainX, trainy, verbose=0)\n",
    "_, test_acc = model.evaluate(testX, testy, verbose=0)\n",
    "print('Train: %.3f, Test: %.3f' % (train_acc, test_acc))"
   ]
  },
  {
   "cell_type": "markdown",
   "metadata": {},
   "source": [
    "Running the example, it first prints the performance of the final model on the train and test datasets.\n",
    "\n",
    "**Note:** Your specific results may vary, given the stochastic nature of the learning algorithm. Consider running the example a few times and compare the average performance.\n",
    "\n",
    "In this case, we can see that the model achieved about 84% accuracy on the training dataset and 76 % accuracy on the test dataset, which is not terrible."
   ]
  },
  {
   "cell_type": "markdown",
   "metadata": {},
   "source": [
    "A line plot also shows the learning curves for the model accuracy on the train and test sets over each training epoch. We can see that the model is not really overfitting but is perhaps a little underfit and may benefit from an increase in capacity, more training, and perhaps some regularization. We intentionally hold back all of these improvements to force high variance for our case study."
   ]
  },
  {
   "cell_type": "code",
   "execution_count": 10,
   "metadata": {},
   "outputs": [
    {
     "data": {
      "image/png": "[encoded data removed]",
      "text/plain": [
       "<Figure size 432x288 with 2 Axes>"
      ]
     },
     "metadata": {
      "needs_background": "light"
     },
     "output_type": "display_data"
    }
   ],
   "source": [
    "# plot loss learning curves\n",
    "pyplot.subplot(211)\n",
    "pyplot.title('Cross-Entropy Loss', pad=-40)\n",
    "pyplot.plot(history.history['loss'], label='train')\n",
    "pyplot.plot(history.history['val_loss'], label='test')\n",
    "pyplot.legend()\n",
    "\n",
    "# plot accuracy learning curves\n",
    "pyplot.subplot(212)\n",
    "pyplot.title('Accuracy', pad=-40)\n",
    "pyplot.plot(history.history['accuracy'], label='train')\n",
    "pyplot.plot(history.history['val_accuracy'], label='test')\n",
    "pyplot.legend()\n",
    "\n",
    "pyplot.show()"
   ]
  },
  {
   "cell_type": "markdown",
   "metadata": {},
   "source": [
    "### High Variance of MLP Model"
   ]
  },
  {
   "cell_type": "markdown",
   "metadata": {},
   "source": [
    "It is important to demonstrate that the model indeed has a variance in its prediction. We can demonstrate this by repeating the fit and evaluation of the same model configuration on the same dataset and summarizing the final performance of the model. To do this, we first split the fit and evaluation of the model out as a function that we can call repeatedly. The `evaluate_model()` function below takes the train, and the test dataset fits a model, then evaluates it, retuning the model's accuracy on the test dataset."
   ]
  },
  {
   "cell_type": "code",
   "execution_count": 28,
   "metadata": {},
   "outputs": [],
   "source": [
    "# fit and evaluate a neural net model on the dataset\n",
    "def evaluate_model(trainX, trainy, testX, testy):\n",
    "    # define model\n",
    "    model = Sequential()\n",
    "    model.add(Dense(15, input_dim=2, activation='relu'))\n",
    "    model.add(Dense(3, activation='softmax'))\n",
    "    model.compile(loss='categorical_crossentropy', optimizer='adam', metrics=['accuracy'])\n",
    "\n",
    "    # fit model\n",
    "    model.fit(trainX, trainy, epochs=200, verbose=0)\n",
    "\n",
    "    # evaluate the model\n",
    "    _, test_acc = model.evaluate(testX, testy, verbose=0)\n",
    "    \n",
    "    return test_acc"
   ]
  },
  {
   "cell_type": "markdown",
   "metadata": {},
   "source": [
    "We can call this function 30 times, saving the test accuracy scores."
   ]
  },
  {
   "cell_type": "code",
   "execution_count": 29,
   "metadata": {
    "scrolled": true
   },
   "outputs": [
    {
     "name": "stdout",
     "output_type": "stream",
     "text": [
      "> 0.791\n",
      "> 0.786\n",
      "> 0.777\n",
      "> 0.740\n",
      "> 0.809\n",
      "> 0.771\n",
      "> 0.763\n",
      "> 0.749\n",
      "> 0.751\n",
      "> 0.723\n",
      "> 0.740\n",
      "> 0.771\n",
      "> 0.794\n",
      "> 0.771\n",
      "> 0.811\n",
      "> 0.789\n",
      "> 0.803\n",
      "> 0.769\n",
      "> 0.786\n",
      "> 0.769\n",
      "> 0.780\n",
      "> 0.723\n",
      "> 0.763\n",
      "> 0.786\n",
      "> 0.743\n",
      "> 0.809\n",
      "> 0.814\n",
      "> 0.737\n",
      "> 0.774\n",
      "> 0.766\n"
     ]
    }
   ],
   "source": [
    "# repeated evaluation\n",
    "n_repeats = 30\n",
    "scores = list()\n",
    "for _ in range(n_repeats):\n",
    "    score = evaluate_model(trainX, trainy, testX, testy)\n",
    "    print('> %.3f' % score)\n",
    "    scores.append(score)"
   ]
  },
  {
   "cell_type": "markdown",
   "metadata": {},
   "source": [
    "Once collected, we can summarize the distribution scores, first in terms of the mean and standard deviation, assuming the distribution is Gaussian, which is very reasonable."
   ]
  },
  {
   "cell_type": "code",
   "execution_count": 31,
   "metadata": {},
   "outputs": [
    {
     "name": "stdout",
     "output_type": "stream",
     "text": [
      "Scores Mean: 0.772, Standard Deviation: 0.025\n"
     ]
    }
   ],
   "source": [
    "from numpy import mean\n",
    "from numpy import std\n",
    "\n",
    "# summarize the distribution of scores\n",
    "print('Scores Mean: %.3f, Standard Deviation: %.3f' % (mean(scores), std(scores)))"
   ]
  },
  {
   "cell_type": "markdown",
   "metadata": {},
   "source": [
    "We can then summarize the distribution both as a histogram to show the shape of the distribution and as a box and whisker plot to show the spread and body of the distribution."
   ]
  },
  {
   "cell_type": "code",
   "execution_count": 32,
   "metadata": {},
   "outputs": [
    {
     "data": {
      "image/png": "[encoded data removed]",
      "text/plain": [
       "<Figure size 432x288 with 1 Axes>"
      ]
     },
     "metadata": {
      "needs_background": "light"
     },
     "output_type": "display_data"
    },
    {
     "data": {
      "image/png": "[encoded data removed]",
      "text/plain": [
       "<Figure size 432x288 with 1 Axes>"
      ]
     },
     "metadata": {
      "needs_background": "light"
     },
     "output_type": "display_data"
    }
   ],
   "source": [
    "# histogram of distribution\n",
    "pyplot.hist(scores, bins=10)\n",
    "pyplot.show()\n",
    "\n",
    "# boxplot of distribution\n",
    "pyplot.boxplot(scores)\n",
    "pyplot.show()"
   ]
  },
  {
   "cell_type": "markdown",
   "metadata": {},
   "source": [
    "The complete example of summarizing the variance of the MLP model on the chosen blobs dataset is listed below."
   ]
  },
  {
   "cell_type": "code",
   "execution_count": 34,
   "metadata": {
    "scrolled": true
   },
   "outputs": [
    {
     "name": "stdout",
     "output_type": "stream",
     "text": [
      "> 0.757\n",
      "> 0.763\n",
      "> 0.757\n",
      "> 0.786\n",
      "> 0.754\n",
      "> 0.791\n",
      "> 0.783\n",
      "> 0.757\n",
      "> 0.769\n",
      "> 0.766\n",
      "> 0.794\n",
      "> 0.791\n",
      "> 0.777\n",
      "> 0.769\n",
      "> 0.783\n",
      "> 0.774\n",
      "> 0.737\n",
      "> 0.766\n",
      "> 0.714\n",
      "> 0.760\n",
      "> 0.766\n",
      "> 0.789\n",
      "> 0.780\n",
      "> 0.797\n",
      "> 0.760\n",
      "> 0.754\n",
      "> 0.791\n",
      "> 0.791\n",
      "> 0.760\n",
      "> 0.740\n",
      "Scores Mean: 0.769, Standard Deviation: 0.019\n"
     ]
    }
   ],
   "source": [
    "# demonstrate high variance of mlp model on blobs classification problem\n",
    "from sklearn.datasets import make_blobs\n",
    "from tensorflow.keras.utils import to_categorical\n",
    "from tensorflow.keras.models import Sequential\n",
    "from tensorflow.keras.layers import Dense\n",
    "from numpy import mean, std\n",
    "from matplotlib import pyplot\n",
    "\n",
    "# fit and evaluate a neural net model on the dataset\n",
    "def evaluate_model(trainX, trainy, testX, testy):\n",
    "    # define model\n",
    "    model = Sequential()\n",
    "    model.add(Dense(15, input_dim=2, activation='relu'))\n",
    "    model.add(Dense(3, activation='softmax'))\n",
    "    model.compile(loss='categorical_crossentropy', optimizer='adam', metrics=['accuracy'])\n",
    "\n",
    "    # fit model\n",
    "    model.fit(trainX, trainy, epochs=200, verbose=0)\n",
    "\n",
    "    # evaluate the model\n",
    "    _, test_acc = model.evaluate(testX, testy, verbose=0)\n",
    "    \n",
    "    return test_acc\n",
    "\n",
    "# generate 2d classification dataset\n",
    "X, y = make_blobs(n_samples=500, centers=3, n_features=2, cluster_std=2, random_state=2)\n",
    "y = to_categorical(y)\n",
    "\n",
    "# split into train and test\n",
    "n_train = int(0.3 * X.shape[0])\n",
    "trainX, testX = X[:n_train, :], X[n_train:, :]\n",
    "trainy, testy = y[:n_train], y[n_train:]\n",
    "\n",
    "# repeated evaluation\n",
    "n_repeats = 30\n",
    "scores = list()\n",
    "for _ in range(n_repeats):\n",
    "    score = evaluate_model(trainX, trainy, testX, testy)\n",
    "    print('> %.3f' % score)\n",
    "    scores.append(score)\n",
    "\n",
    "# summarize the distribution of scores\n",
    "print('Scores Mean: %.3f, Standard Deviation: %.3f' % (mean(scores), std(scores)))"
   ]
  },
  {
   "cell_type": "markdown",
   "metadata": {},
   "source": [
    "Running the example first prints the accuracy of each model on the test set, finishing with the mean and standard deviation of the sample of accuracy scores.\n",
    "\n",
    "**Note:** Your specific results may vary, given the stochastic nature of the learning algorithm. Consider running the example a few times and compare the average performance.\n",
    "\n",
    "In this case, we can see that the average of the sample is 76.9%, with a standard deviation of about 1.9%. Assuming a Gaussian distribution, we would expect 99% of accuracy scores to fall between about 73% and 81% (i.e., three standard deviations above and below the mean). We can take the standard deviation of the model's accuracy on the test set as an estimate for the variance of the predictions made by the model."
   ]
  },
  {
   "cell_type": "markdown",
   "metadata": {},
   "source": [
    "A histogram of the accuracy scores is also created, showing a very rough Gaussian shape, perhaps with a longer right tail. A large sample and a different number of bins on the plot might better expose the true underlying shape of the distribution."
   ]
  },
  {
   "cell_type": "code",
   "execution_count": 35,
   "metadata": {},
   "outputs": [
    {
     "data": {
      "image/png": "[encoded data removed]",
      "text/plain": [
       "<Figure size 432x288 with 1 Axes>"
      ]
     },
     "metadata": {
      "needs_background": "light"
     },
     "output_type": "display_data"
    }
   ],
   "source": [
    "# histogram of distribution\n",
    "pyplot.hist(scores, bins=10)\n",
    "pyplot.show()"
   ]
  },
  {
   "cell_type": "markdown",
   "metadata": {},
   "source": [
    "A box and whisker plot is also created, showing a line at the median at about 76.5% accuracy on the test set and the interquartile range or middle 50% of the samples between about 78% and 76%."
   ]
  },
  {
   "cell_type": "code",
   "execution_count": 36,
   "metadata": {},
   "outputs": [
    {
     "data": {
      "image/png": "[encoded data removed]",
      "text/plain": [
       "<Figure size 432x288 with 1 Axes>"
      ]
     },
     "metadata": {
      "needs_background": "light"
     },
     "output_type": "display_data"
    }
   ],
   "source": [
    "# boxplot of distribution\n",
    "pyplot.boxplot(scores)\n",
    "pyplot.show()"
   ]
  },
  {
   "cell_type": "markdown",
   "metadata": {},
   "source": [
    "The analysis of the sample of test scores demonstrates a variance in the performance of the same model trained on the same dataset. A spread of likely scores of about eight percentage points (81% to 73%) on the test set could reasonably be considered large, e.g., a high variance result."
   ]
  },
  {
   "cell_type": "markdown",
   "metadata": {},
   "source": [
    "### Model Averaging Ensemble"
   ]
  },
  {
   "cell_type": "markdown",
   "metadata": {},
   "source": [
    "We can use model averaging to reduce the variance of the model and possibly reduce the model's generalization error. Specifically, this would result in a smaller standard deviation on the holdout test set and better performance on the training set. We can check both of these assumptions. First, we must develop a function to prepare and return a fit model on the training dataset."
   ]
  },
  {
   "cell_type": "code",
   "execution_count": 37,
   "metadata": {},
   "outputs": [],
   "source": [
    "# fit model on dataset\n",
    "def fit_model(trainX, trainy):\n",
    "    # define model\n",
    "    model = Sequential()\n",
    "    model.add(Dense(15, input_dim=2, activation='relu'))\n",
    "    model.add(Dense(3, activation='softmax'))\n",
    "    model.compile(loss='categorical_crossentropy', optimizer='adam', metrics=['accuracy'])\n",
    "\n",
    "    # fit model\n",
    "    model.fit(trainX, trainy, epochs=200, verbose=0)\n",
    "\n",
    "    return model"
   ]
  },
  {
   "cell_type": "markdown",
   "metadata": {},
   "source": [
    "Next, we need a function to take a list of ensemble members and predict an out-of-sample dataset. This could be one or more samples arranged in a two-dimensional array of samples and input features. Tip: you can use this function yourself to test ensembles and make predictions with ensembles on new data."
   ]
  },
  {
   "cell_type": "code",
   "execution_count": 38,
   "metadata": {},
   "outputs": [],
   "source": [
    "# make an ensemble prediction for multiclass classification\n",
    "def ensemble_predictions(members, testX):\n",
    "    # make predictions\n",
    "    yhats = [model.predict(testX) for model in members]\n",
    "    yhats = array(yhats)\n",
    "\n",
    "    # sum across ensemble members\n",
    "    summed = numpy.sum(yhats, axis=0)\n",
    "\n",
    "    # argmax across classes\n",
    "    result = argmax(summed, axis=1)\n",
    "\n",
    "    return result"
   ]
  },
  {
   "cell_type": "markdown",
   "metadata": {},
   "source": [
    "We do not know how many ensemble members will be appropriate for this problem. Therefore, we can perform a sensitivity analysis of the number of ensemble members and how it impacts test accuracy. This means we need a function that can evaluate a specified number of ensemble members and return the accuracy of a prediction combined from those members."
   ]
  },
  {
   "cell_type": "code",
   "execution_count": 39,
   "metadata": {},
   "outputs": [],
   "source": [
    "# evaluate a specific number of members in an ensemble\n",
    "def evaluate_n_members(members, n_members, testX, testy):\n",
    "    # select a subset of members\n",
    "    subset = members[:n_members]\n",
    "    print(len(subset))\n",
    "\n",
    "    # make prediction\n",
    "    yhat = ensemble_predictions(subset, testX)\n",
    "    \n",
    "    # calculate accuracy\n",
    "    return accuracy_score(testy, yhat)"
   ]
  },
  {
   "cell_type": "markdown",
   "metadata": {},
   "source": [
    "Finally, we can create a line plot of the number of ensemble members (x-axis) versus the prediction accuracy averaged across that many members on the test dataset (y-axis).\n",
    "\n",
    "```\n",
    "# plot score vs number of ensemble members\n",
    "x_axis = [i for i in range(1, n_members+1)]\n",
    "pyplot.plot(x_axis, scores)\n",
    "pyplot.show()\n",
    "```"
   ]
  },
  {
   "cell_type": "markdown",
   "metadata": {},
   "source": [
    "The complete example is listed below."
   ]
  },
  {
   "cell_type": "code",
   "execution_count": 41,
   "metadata": {
    "scrolled": true
   },
   "outputs": [
    {
     "name": "stdout",
     "output_type": "stream",
     "text": [
      "1\n",
      "> 0.763\n",
      "2\n",
      "> 0.769\n",
      "3\n",
      "> 0.769\n",
      "4\n",
      "> 0.777\n",
      "5\n",
      "> 0.769\n",
      "6\n",
      "> 0.774\n",
      "7\n",
      "> 0.774\n",
      "8\n",
      "> 0.774\n",
      "9\n",
      "> 0.774\n",
      "10\n",
      "> 0.774\n",
      "11\n",
      "> 0.774\n",
      "12\n",
      "> 0.774\n",
      "13\n",
      "> 0.774\n",
      "14\n",
      "> 0.774\n",
      "15\n",
      "> 0.774\n",
      "16\n",
      "> 0.774\n",
      "17\n",
      "> 0.777\n",
      "18\n",
      "> 0.771\n",
      "19\n",
      "> 0.771\n",
      "20\n",
      "> 0.771\n"
     ]
    }
   ],
   "source": [
    "# model averaging ensemble and a study of ensemble size on test accuracy\n",
    "from sklearn.datasets import make_blobs\n",
    "from tensorflow.keras.utils import to_categorical\n",
    "from tensorflow.keras.models import Sequential\n",
    "from tensorflow.keras.layers import Dense\n",
    "from sklearn.metrics import accuracy_score\n",
    "from matplotlib import pyplot\n",
    "from numpy import array, argmax\n",
    "import numpy\n",
    "\n",
    "# fit model on dataset\n",
    "def fit_model(trainX, trainy):\n",
    "    # define model\n",
    "    model = Sequential()\n",
    "    model.add(Dense(15, input_dim=2, activation='relu'))\n",
    "    model.add(Dense(3, activation='softmax'))\n",
    "    model.compile(loss='categorical_crossentropy', optimizer='adam', metrics=['accuracy'])\n",
    "\n",
    "    # fit model\n",
    "    model.fit(trainX, trainy, epochs=200, verbose=0)\n",
    "\n",
    "    return model\n",
    "\n",
    "# make an ensemble prediction for multi-class classification\n",
    "def ensemble_predictions(members, testX):\n",
    "    # make predictions\n",
    "    yhats = [model.predict(testX) for model in members]\n",
    "    yhats = array(yhats)\n",
    "\n",
    "    # sum across ensemble members\n",
    "    summed = numpy.sum(yhats, axis=0)\n",
    "\n",
    "    # argmax across classes\n",
    "    result = argmax(summed, axis=1)\n",
    "\n",
    "    return result\n",
    "\n",
    "# evaluate a specific number of members in an ensemble\n",
    "def evaluate_n_members(members, n_members, testX, testy):\n",
    "    # select a subset of members\n",
    "    subset = members[:n_members]\n",
    "\n",
    "    print(len(subset))\n",
    "    # make prediction\n",
    "    yhat = ensemble_predictions(subset, testX)\n",
    "\n",
    "    # calculate accuracy\n",
    "    return accuracy_score(testy, yhat)\n",
    "\n",
    "# generate 2d classification dataset\n",
    "X, y = make_blobs(n_samples=500, centers=3, n_features=2, cluster_std=2, random_state=2)\n",
    "\n",
    "# split into train and test\n",
    "n_train = int(0.3 * X.shape[0])\n",
    "trainX, testX = X[:n_train, :], X[n_train:, :]\n",
    "trainy, testy = y[:n_train], y[n_train:]\n",
    "trainy = to_categorical(trainy)\n",
    "\n",
    "# fit all models\n",
    "n_members = 20\n",
    "members = [fit_model(trainX, trainy) for _ in range(n_members)]\n",
    "\n",
    "# evaluate different numbers of ensembles\n",
    "scores = list()\n",
    "for i in range(1, n_members+1):\n",
    "    score = evaluate_n_members(members, i, testX, testy)\n",
    "    print('> %.3f' % score)\n",
    "    scores.append(score)"
   ]
  },
  {
   "cell_type": "markdown",
   "metadata": {},
   "source": [
    "Running the example first fits 20 models on the same training dataset, which may take less than a minute on modern hardware. Then, different-sized ensembles are tested from 1 to all 20 members, and test accuracy results are printed for each ensemble size."
   ]
  },
  {
   "cell_type": "markdown",
   "metadata": {},
   "source": [
    "Finally, a line plot shows the relationship between ensemble size and performance on the test set. We can see that performance improves to about five members, after which performance plateaus around 77% accuracy. This is close to the average test set performance observed during the analysis of the repeated evaluation of the model."
   ]
  },
  {
   "cell_type": "code",
   "execution_count": 42,
   "metadata": {},
   "outputs": [
    {
     "data": {
      "image/png": "[encoded data removed]",
      "text/plain": [
       "<Figure size 432x288 with 1 Axes>"
      ]
     },
     "metadata": {
      "needs_background": "light"
     },
     "output_type": "display_data"
    }
   ],
   "source": [
    "# plot score vs number of ensemble members\n",
    "x_axis = [i for i in range(1, n_members+1)]\n",
    "pyplot.plot(x_axis, scores)\n",
    "pyplot.show()"
   ]
  },
  {
   "cell_type": "markdown",
   "metadata": {},
   "source": [
    "Finally, we can update the repeated evaluation experiment to use an ensemble of five models instead of a single model and compare the distribution of scores. The complete example of a repeated evaluated five-member ensemble of the blobs dataset is listed below."
   ]
  },
  {
   "cell_type": "code",
   "execution_count": 44,
   "metadata": {
    "scrolled": true
   },
   "outputs": [
    {
     "name": "stdout",
     "output_type": "stream",
     "text": [
      "> 0.771\n",
      "> 0.766\n",
      "> 0.763\n",
      "> 0.771\n",
      "> 0.754\n",
      "> 0.760\n",
      "> 0.769\n",
      "> 0.774\n",
      "> 0.766\n",
      "> 0.760\n",
      "> 0.760\n",
      "> 0.766\n",
      "> 0.769\n",
      "> 0.763\n",
      "> 0.771\n",
      "> 0.771\n",
      "> 0.763\n",
      "> 0.760\n",
      "> 0.771\n",
      "> 0.769\n",
      "> 0.771\n",
      "> 0.769\n",
      "> 0.769\n",
      "> 0.771\n",
      "> 0.774\n",
      "> 0.769\n",
      "> 0.769\n",
      "> 0.766\n",
      "> 0.769\n",
      "> 0.771\n",
      "Scores Mean: 0.767, Standard Deviation: 0.005\n"
     ]
    }
   ],
   "source": [
    "# repeated evaluation of model averaging ensemble on blobs dataset\n",
    "from sklearn.datasets import make_blobs\n",
    "from tensorflow.keras.utils import to_categorical\n",
    "from tensorflow.keras.models import Sequential\n",
    "from tensorflow.keras.layers import Dense\n",
    "from sklearn.metrics import accuracy_score\n",
    "from matplotlib import pyplot\n",
    "from numpy import array, argmax\n",
    "import numpy\n",
    "\n",
    "# fit model on dataset\n",
    "def fit_model(trainX, trainy):\n",
    "    # define model\n",
    "    model = Sequential()\n",
    "    model.add(Dense(15, input_dim=2, activation='relu'))\n",
    "    model.add(Dense(3, activation='softmax'))\n",
    "    model.compile(loss='categorical_crossentropy', optimizer='adam', metrics=['accuracy'])\n",
    "\n",
    "    # fit model\n",
    "    model.fit(trainX, trainy, epochs=200, verbose=0)\n",
    "\n",
    "    return model\n",
    "\n",
    "# make an ensemble prediction for multi-class classification\n",
    "def ensemble_predictions(members, testX):\n",
    "    # make predictions\n",
    "    yhats = [model.predict(testX) for model in members]\n",
    "    yhats = array(yhats)\n",
    "\n",
    "    # sum across ensemble members\n",
    "    summed = numpy.sum(yhats, axis=0)\n",
    "\n",
    "    # argmax across classes\n",
    "    result = argmax(summed, axis=1)\n",
    "\n",
    "    return result\n",
    "\n",
    "# evaluate ensemble model\n",
    "def evaluate_members(members, testX, testy):\n",
    "    # make prediction\n",
    "    yhat = ensemble_predictions(members, testX)\n",
    "    \n",
    "    # calculate accuracy\n",
    "    return accuracy_score(testy, yhat)\n",
    "\n",
    "# generate 2d classification dataset\n",
    "X, y = make_blobs(n_samples=500, centers=3, n_features=2, cluster_std=2, random_state=2)\n",
    "\n",
    "# split into train and test\n",
    "n_train = int(0.3 * X.shape[0])\n",
    "trainX, testX = X[:n_train, :], X[n_train:, :]\n",
    "trainy, testy = y[:n_train], y[n_train:]\n",
    "trainy = to_categorical(trainy)\n",
    "\n",
    "# repeated evaluation\n",
    "n_repeats = 30\n",
    "n_members = 5\n",
    "scores = list()\n",
    "\n",
    "for _ in range(n_repeats):\n",
    "    # fit all models\n",
    "    members = [fit_model(trainX, trainy) for _ in range(n_members)]\n",
    "\n",
    "    # evaluate ensemble\n",
    "    score = evaluate_members(members, testX, testy)\n",
    "    print('> %.3f' % score)\n",
    "    scores.append(score)\n",
    "\n",
    "# summarize the distribution of scores\n",
    "print('Scores Mean: %.3f, Standard Deviation: %.3f' % (mean(scores), std(scores)))"
   ]
  },
  {
   "cell_type": "markdown",
   "metadata": {},
   "source": [
    "Running the example may take a few minutes as five models are fit and evaluated, and this process is repeated 30 times. The performance of each model on the test set is printed to provide an indication of progress. The mean and standard deviation of the model performance is printed\n",
    "at the end of the run.\n",
    "\n",
    "**Note:** Your specific results may vary, given the stochastic nature of the learning algorithm. Consider running the example a few times and compare the average performance."
   ]
  },
  {
   "cell_type": "markdown",
   "metadata": {},
   "source": [
    "In this case, we can see that the average performance of a five-member ensemble on the dataset is 76.7%. This is very close to the average of 77% seen for a single model. The important difference is the standard deviation shrinking from 1.9% for a single model to 0.5% with an ensemble of five models. We might expect that a given ensemble of five models on this problem to have a performance fall between about 74% and about 78%, with a likelihood of 99%.\n",
    "\n",
    "Averaging the same model trained on the same dataset gives us a spread for improved reliability, a property often highly desired in a final model to be used operationally. More models in the ensemble will further decrease the standard deviation of the accuracy of an ensemble on the test dataset given the law of large numbers, at least to the point of diminishing returns. This demonstrates that for this specific model and prediction problem, that a model averaging ensemble with five members is sufficient to reduce the variance of the model. This reduction in variance, in turn, also means a better on-average performance when preparing a final model."
   ]
  },
  {
   "cell_type": "markdown",
   "metadata": {},
   "source": [
    "## Extensions"
   ]
  },
  {
   "cell_type": "markdown",
   "metadata": {},
   "source": [
    "This section lists some ideas for extending the tutorial that you may wish to explore.\n",
    "\n",
    "* **Average Class Prediction**. Update the example to average the class integer prediction instead of the class probability prediction and compare results.\n",
    "* **Save and Load Models**. Update the example to save ensemble members to a file, then load them from a separate script for evaluation.\n",
    "* **Sensitivity of Variance**. Create a new example that performs a sensitivity analysis of the number of ensemble members on the standard deviation of model performance on the test set over a given number of repeats and report the point of diminishing returns."
   ]
  },
  {
   "cell_type": "markdown",
   "metadata": {},
   "source": [
    "## Summary"
   ]
  },
  {
   "cell_type": "markdown",
   "metadata": {},
   "source": [
    "In this tutorial, you discovered how to develop a model averaging ensemble in Keras to reduce the variance in a final model. Specifically, you learned:\n",
    "\n",
    "* Model averaging is an ensemble learning technique that can be used to reduce the expected variance of deep learning neural network models.\n",
    "* How to implement model averaging in Keras for classification and regression predictive modeling problems.\n",
    "* How to work through a multiclass classification problem and use model averaging to reduce the variance of the final model."
   ]
  },
  {
   "cell_type": "code",
   "execution_count": null,
   "metadata": {},
   "outputs": [],
   "source": []
  }
 ],
 "metadata": {
  "kernelspec": {
   "display_name": "Python 3",
   "language": "python",
   "name": "python3"
  },
  "language_info": {
   "codemirror_mode": {
    "name": "ipython",
    "version": 3
   },
   "file_extension": ".py",
   "mimetype": "text/x-python",
   "name": "python",
   "nbconvert_exporter": "python",
   "pygments_lexer": "ipython3",
   "version": "3.6.9"
  }
 },
 "nbformat": 4,
 "nbformat_minor": 2
}
