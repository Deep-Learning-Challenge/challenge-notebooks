{
 "cells": [
  {
   "cell_type": "markdown",
   "metadata": {},
   "source": [
    "# Force Small Weights With Weight Constraints"
   ]
  },
  {
   "cell_type": "markdown",
   "metadata": {},
   "source": [
    "Weight regularization methods like weight decay introduce a penalty to the loss function when training a neural network to encourage the network to use small weights. Smaller weights in a neural network can result in a more stable model and less likely to overfit the training dataset, resulting in better performance when making a prediction on new data. Unlike weight regularization, a weight constraint is a trigger that checks the size or magnitude of the weights and scales them so that they are all below a predefined threshold. The constraint forces weights to be small and can be used instead of weight decay and in conjunction with more aggressive network configurations, such as very large learning rates. In this tutorial, you will discover the use of weight constraint regularization as an alternative to weight penalties to reduce overfitting in deep neural networks. After reading this tutorial, you will know:\n",
    "\n",
    "* Weight penalties encourage but do not require neural networks to have small weights.\n",
    "* Weight constraints, such as the L2 norm and maximum norm, can be used to force neural networks to have small weights during training.\n",
    "* Weight constraints can improve generalization when used in conjunction with other regularization methods like dropout."
   ]
  },
  {
   "cell_type": "markdown",
   "metadata": {},
   "source": [
    "## Weight Constraints"
   ]
  },
  {
   "cell_type": "markdown",
   "metadata": {},
   "source": [
    "In this section, you will discover the problem with neural networks that have large weights, a technique that you can use to force the development of models with small weights called weight constraints, and tips for using this technique in your projects."
   ]
  },
  {
   "cell_type": "markdown",
   "metadata": {},
   "source": [
    "### Alternative to Penalties for Large Weights"
   ]
  },
  {
   "cell_type": "markdown",
   "metadata": {},
   "source": [
    "Large weights in a neural network are a sign of overfitting. A network with large weights has very likely learned the statistical noise in the training data. This results in a model that is unstable and very sensitive to changes to the input variables. In turn, the overfit network has poor performance when making predictions on new unseen data. A popular and effective technique to address the problem is to update the loss function optimized during training to take the size of the weights into account.\n",
    "\n",
    "This is called a penalty, as the larger the network's weights become, the more the network is penalized, resulting in a larger loss and, in turn, larger updates. The effect is that the penalty encourages weights to be small or no larger than required during the training process, reducing overfitting. A problem in using a penalty is that although it does encourage the network toward smaller weights, it does not force smaller weights. A neural network trained with a weight regularization penalty may still allow large weights, in some cases very large weights."
   ]
  },
  {
   "cell_type": "markdown",
   "metadata": {},
   "source": [
    "### Force Small Weights"
   ]
  },
  {
   "cell_type": "markdown",
   "metadata": {},
   "source": [
    "An alternate solution to using a penalty for the size of network weights is to use a weight constraint. A weight constraint is an update to the network that checks the size of the weights (e.g., their vector norm), and if the size exceeds a predefined limit, the weights are rescaled so that their size is below the limit or between a range. You can think of a weight constraint as an if-then rule checking the size of the weights while the network is being trained and only coming into effect and making weights small when required. Note, for efficiency, it does not have to be implemented as an if-then rule and often is not.\n",
    "\n",
    "Unlike adding a penalty to the loss function, a weight constraint ensures the network weights are small, instead of merely encouraging them to be small. It can be useful for those problems or networks that resist other regularization methods, such as weight penalties. Weight constraints prove especially useful when you have configured your network to use alternative regularization methods to weight regularization and yet still desire the network to have small weights to reduce overfitting. One often-cited example is the use of a weight constraint regularization with dropout regularization."
   ]
  },
  {
   "cell_type": "markdown",
   "metadata": {},
   "source": [
    "### How to Use a Weight Constraint"
   ]
  },
  {
   "cell_type": "markdown",
   "metadata": {},
   "source": [
    "A constraint is enforced on each node within a layer. All nodes within the layer use the same constraint, and often multiple hidden layers within the same network will use the same constraint. Recall that when we talk about the vector norm in general, this is the magnitude of the vector of weights in a node, and by default, is calculated as the L2 norm, e.g., the square root of the sum of the squared values in the vector. Some examples of constraints that could be used include:\n",
    "\n",
    "* Force the vector norm to be 1.0 (e.g., the unit norm).\n",
    "* Limit the maximum size of the vector norm (e.g., the maximum norm).\n",
    "* Limit the minimum and maximum size of the vector norm (e.g., the min-max norm).\n",
    "\n",
    "The maximum norm, also called max-norm or max norm, is a popular constraint because it is less aggressive than other norms such as the unit norm, simply setting an upper bound. When using a limit or a range, a hyperparameter must be specified. Given that weights are small, the hyperparameter is often a small integer value, such as a value between 1 and 4. If the norm exceeds the specified range or limit, the weights are rescaled or normalized such that their magnitude is below the specified parameter or within the specified range. The constraint can be applied after each update to the weights, e.g., at the end of each\n",
    "minibatch."
   ]
  },
  {
   "cell_type": "markdown",
   "metadata": {},
   "source": [
    "### Tips for Using Weight Constraints"
   ]
  },
  {
   "cell_type": "markdown",
   "metadata": {},
   "source": [
    "This section provides some tips for using weight constraints with your neural network."
   ]
  },
  {
   "cell_type": "markdown",
   "metadata": {},
   "source": [
    "**Use With All Network Types**\n",
    "\n",
    "Weight constraints are a generic approach. They can be used with most, perhaps all, types of neural network models, not least the most common network types of Multilayer Perceptrons, Convolutional Neural Networks, and Long Short-Term Memory Recurrent Neural Networks. In LSTMs, it may be desirable to use different constraints or constraint configurations for the input and recurrent connections.\n",
    "\n",
    "**Standardize Input Data**\n",
    "\n",
    "It is a good general practice to rescale input variables to have the same scale. When input variables have different scales, the scale of the network's weights will, in turn, vary accordingly. This introduces a problem when using weight constraints because large weights will cause the constraint to trigger more frequently. This problem can be done by either normalization or standardization of input variables.\n",
    "\n",
    "**Use a Larger Learning Rate**\n",
    "\n",
    "The use of a weight constraint allows you to be more aggressive during the training of the network. Specifically, a larger learning rate can be used, enabling the network to, in turn, make larger updates to the weights with each update. This is cited as an important benefit to using weight constraints. Such as the use of a constraint in conjunction with dropout\n",
    "\n",
    "**Try Other Constraints**\n",
    "\n",
    "Explore the use of other weight constraints, such as a minimum and maximum range, non-negative weights, and more. You may also choose to use constraints on some weights and not others, such as not using constraints on bias weights in an MLP or not using constraints on recurrent connections in an LSTM."
   ]
  },
  {
   "cell_type": "markdown",
   "metadata": {},
   "source": [
    "## Weight Constraints Case Study"
   ]
  },
  {
   "cell_type": "code",
   "execution_count": null,
   "metadata": {},
   "outputs": [],
   "source": []
  }
 ],
 "metadata": {
  "kernelspec": {
   "display_name": "Python 3",
   "language": "python",
   "name": "python3"
  },
  "language_info": {
   "codemirror_mode": {
    "name": "ipython",
    "version": 3
   },
   "file_extension": ".py",
   "mimetype": "text/x-python",
   "name": "python",
   "nbconvert_exporter": "python",
   "pygments_lexer": "ipython3",
   "version": "3.6.9"
  }
 },
 "nbformat": 4,
 "nbformat_minor": 2
}
