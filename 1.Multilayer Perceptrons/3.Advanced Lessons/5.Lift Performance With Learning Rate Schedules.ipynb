{
 "cells": [
  {
   "cell_type": "markdown",
   "metadata": {},
   "source": [
    "# Lift Performance With Learning Rate Schedules"
   ]
  },
  {
   "cell_type": "markdown",
   "metadata": {},
   "source": [
    "Training a neural network or a large deep learning model is a difficult optimization task. The classical algorithm to train neural networks is called stochastic gradient descent. It has been well established that you can achieve increased performance and faster training on some problems using a learning rate during training. In this lesson, you will discover how you can use different learning rate schedules for your neural network models in Python using the Keras deep learning library. After completing this lesson, you will know:\n",
    "\n",
    "* The benefit of learning rate schedules on lifting model performance during training.\n",
    "* How to configure and evaluate a time-based learning rate schedule.\n",
    "* How to configure and evaluate a drop-based learning rate schedule.\n",
    "\n",
    "Let's get started."
   ]
  },
  {
   "cell_type": "markdown",
   "metadata": {},
   "source": [
    "## Learning Rate Schedule For Training Models"
   ]
  },
  {
   "cell_type": "markdown",
   "metadata": {},
   "source": [
    "Adapting the learning rate for your stochastic gradient descent optimization procedure can increase performance and reduce training time. Sometimes this is called learning rate annealing or adaptive learning rates. Here we will call this approach a learning rate schedule, where the default schedule is to use a constant learning rate to update network weights for each training epoch.\n",
    "\n",
    "The most straightforward and perhaps most used adaptation of learning rates during training are techniques that reduce the learning rate over time. These benefit from making large changes at the beginning of the training procedure when larger learning rate values are used and decreasing the learning rate such that a lower rate and therefore smaller training updates are made to weights later in the training procedure. This has the effect of quickly learning good weights early and fine-tuning them later. Two popular and easy to use learning rate schedules are as follows:\n",
    "\n",
    "* Decrease the learning rate gradually based on the epoch.\n",
    "* Decrease the learning rate using punctuated large drops at specific epochs.\n",
    "\n",
    "Next, we will look at how you can use each of these learning rate schedules in turn with Keras."
   ]
  },
  {
   "cell_type": "markdown",
   "metadata": {},
   "source": [
    "## Ionosphere Classification Dataset"
   ]
  },
  {
   "cell_type": "markdown",
   "metadata": {},
   "source": [
    "The Ionosphere binary classification problem is used as a demonstration in this lesson. The dataset describes radar returns where the target was free electrons in the ionosphere. It is a binary classification problem where positive cases (g for good) show that some structures in the ionosphere and negative cases (b for bad) do not. It is a useful dataset for practicing with neural networks because all of the inputs are small numerical values of the same scale. There are 34 attributes and 351 observations.\n",
    "\n",
    "State-of-the-art results on this dataset achieve an accuracy of approximately 94% to 98% accuracy using 10-fold cross-validation. You can learn more about the ionosphere dataset on the [UCI Machine Learning Repository\n",
    "website](https://archive.ics.uci.edu/ml/datasets/Ionosphere)."
   ]
  },
  {
   "cell_type": "markdown",
   "metadata": {},
   "source": [
    "## Time-Based Learning Rate Schedule"
   ]
  },
  {
   "cell_type": "markdown",
   "metadata": {},
   "source": [
    "Keras has a time-based learning rate schedule built-in. The stochastic gradient descent optimization algorithm implementation in the SGD class has an argument called decay. This argument is used in the time-based learning rate decay schedule equation as follows:\n",
    "\n",
    "$$ Learning Rate = LearningRate\\times\\frac{1}{1 + decay\\times epoch}  $$\n",
    "\n",
    "When the decay argument is zero (the default), this does not affect the learning rate (e.g., 0.1).\n",
    "\n",
    "```\n",
    "LearningRate = 0.1 * 1/(1 + 0.0 * 1)\n",
    "LearningRate = 0.1\n",
    "```\n",
    "\n",
    "When the decay argument is specified, it will decrease the previous epoch's learning rate by the given fixed amount. For example, if we use the initial learning rate value of 0.1 and the decay of 0.001, the first five epochs will adapt the learning rate as follows:\n",
    "\n",
    "```\n",
    "Epoch Learning Rate\n",
    "    1 0.1\n",
    "    2 0.0999000999\n",
    "    3 0.0997006985\n",
    "    4 0.09940249103\n",
    "    5 0.09900646517\n",
    "```\n",
    "\n",
    "Extending this out to 100 epochs will produce the following graph of learning rate (y-axis) versus epoch (x-axis):\n",
    "\n",
    "![Learning Rate Decay](../../images/learning_rate_decay.png)\n",
    "\n",
    "You can create a nice default schedule by setting the decay value as follows:\n",
    "\n",
    "```\n",
    "Decay = LearningRate / Epochs\n",
    "Decay = 0.1 / 100\n",
    "Decay = 0.001\n",
    "```\n",
    "\n",
    "The example below demonstrates using the time-based learning rate adaptation schedule in Keras. A small neural network model is constructed with a single hidden layer with 34 neurons and using the rectifier activation function. The output layer has a single neuron and uses the sigmoid activation function to output probability-like values. The learning rate for stochastic gradient descent has been set to a higher value of 0.1. The model is trained for 50 epochs, and the decay argument has been set to 0.002, calculated as $\\frac{0.1}{50}$.\n",
    "Additionally, it can be a good idea to use momentum when using an adaptive learning rate. In this case, we use a momentum value of 0.8. The complete example is listed below."
   ]
  },
  {
   "cell_type": "code",
   "execution_count": 1,
   "metadata": {},
   "outputs": [],
   "source": [
    "# Time Based Learning Rate Decay\n",
    "from pandas import read_csv\n",
    "import numpy\n",
    "\n",
    "from tensorflow.keras.models import Sequential\n",
    "from tensorflow.keras.layers import Dense\n",
    "from tensorflow.keras.optimizers import SGD\n",
    "from sklearn.preprocessing import LabelEncoder\n",
    "\n",
    "# fix random seed for reproducibility\n",
    "seed = 7\n",
    "numpy.random.seed(seed)\n",
    "\n",
    "# load dataset\n",
    "dataframe = read_csv(\"../../datasets/ionosphere.csv\", header=None)\n",
    "dataset = dataframe.values\n",
    "\n",
    "# split into input (X) and output (Y) variables\n",
    "X = dataset[:,0:34].astype(float)\n",
    "Y = dataset[:,34]\n",
    "\n",
    "# encode class values as integers\n",
    "encoder = LabelEncoder()\n",
    "encoder.fit(Y)\n",
    "Y = encoder.transform(Y)\n",
    "\n",
    "# create model\n",
    "model = Sequential()\n",
    "model.add(Dense(34, input_dim=34, kernel_initializer='normal', activation='relu'))\n",
    "model.add(Dense(1, kernel_initializer='normal', activation='sigmoid'))\n",
    "\n",
    "# Compile model\n",
    "epochs = 50\n",
    "learning_rate = 0.1\n",
    "decay_rate = learning_rate / epochs\n",
    "momentum = 0.8\n",
    "sgd = SGD(lr=learning_rate, momentum=momentum, decay=decay_rate, nesterov=False)\n",
    "model.compile(loss='binary_crossentropy', optimizer=sgd, metrics=['accuracy'])"
   ]
  },
  {
   "cell_type": "markdown",
   "metadata": {},
   "source": [
    "The model is trained on 67% of the dataset and evaluated using a 33% validation dataset. Running the example shows a classification accuracy of 99.14%. This is higher than the baseline of 95.69% without the learning rate decay or momentum."
   ]
  },
  {
   "cell_type": "code",
   "execution_count": 2,
   "metadata": {},
   "outputs": [
    {
     "name": "stdout",
     "output_type": "stream",
     "text": [
      "Epoch 1/50\n",
      "9/9 - 1s - loss: 0.6851 - accuracy: 0.5660 - val_loss: 0.6398 - val_accuracy: 0.7931\n",
      "Epoch 2/50\n",
      "9/9 - 0s - loss: 0.6411 - accuracy: 0.6681 - val_loss: 0.5107 - val_accuracy: 0.9052\n",
      "Epoch 3/50\n",
      "9/9 - 0s - loss: 0.5765 - accuracy: 0.7660 - val_loss: 0.5207 - val_accuracy: 0.7845\n",
      "Epoch 4/50\n",
      "9/9 - 0s - loss: 0.4886 - accuracy: 0.8170 - val_loss: 0.4550 - val_accuracy: 0.9052\n",
      "Epoch 5/50\n",
      "9/9 - 0s - loss: 0.4089 - accuracy: 0.8511 - val_loss: 0.4103 - val_accuracy: 0.8879\n",
      "Epoch 6/50\n",
      "9/9 - 0s - loss: 0.3665 - accuracy: 0.8596 - val_loss: 0.3899 - val_accuracy: 0.8966\n",
      "Epoch 7/50\n",
      "9/9 - 0s - loss: 0.3108 - accuracy: 0.8979 - val_loss: 0.1667 - val_accuracy: 0.9569\n",
      "Epoch 8/50\n",
      "9/9 - 0s - loss: 0.2872 - accuracy: 0.8809 - val_loss: 0.2323 - val_accuracy: 0.9483\n",
      "Epoch 9/50\n",
      "9/9 - 0s - loss: 0.2316 - accuracy: 0.9106 - val_loss: 0.1843 - val_accuracy: 0.9483\n",
      "Epoch 10/50\n",
      "9/9 - 0s - loss: 0.2193 - accuracy: 0.9064 - val_loss: 0.1576 - val_accuracy: 0.9569\n",
      "Epoch 11/50\n",
      "9/9 - 0s - loss: 0.1883 - accuracy: 0.9277 - val_loss: 0.2578 - val_accuracy: 0.9138\n",
      "Epoch 12/50\n",
      "9/9 - 0s - loss: 0.1807 - accuracy: 0.9277 - val_loss: 0.1414 - val_accuracy: 0.9655\n",
      "Epoch 13/50\n",
      "9/9 - 0s - loss: 0.1689 - accuracy: 0.9319 - val_loss: 0.1440 - val_accuracy: 0.9569\n",
      "Epoch 14/50\n",
      "9/9 - 0s - loss: 0.1584 - accuracy: 0.9362 - val_loss: 0.1288 - val_accuracy: 0.9741\n",
      "Epoch 15/50\n",
      "9/9 - 0s - loss: 0.1487 - accuracy: 0.9447 - val_loss: 0.1328 - val_accuracy: 0.9828\n",
      "Epoch 16/50\n",
      "9/9 - 0s - loss: 0.1400 - accuracy: 0.9489 - val_loss: 0.1340 - val_accuracy: 0.9828\n",
      "Epoch 17/50\n",
      "9/9 - 0s - loss: 0.1327 - accuracy: 0.9617 - val_loss: 0.1232 - val_accuracy: 0.9741\n",
      "Epoch 18/50\n",
      "9/9 - 0s - loss: 0.1311 - accuracy: 0.9574 - val_loss: 0.1064 - val_accuracy: 0.9741\n",
      "Epoch 19/50\n",
      "9/9 - 0s - loss: 0.1297 - accuracy: 0.9574 - val_loss: 0.1566 - val_accuracy: 0.9655\n",
      "Epoch 20/50\n",
      "9/9 - 0s - loss: 0.1206 - accuracy: 0.9617 - val_loss: 0.1165 - val_accuracy: 0.9828\n",
      "Epoch 21/50\n",
      "9/9 - 0s - loss: 0.1211 - accuracy: 0.9617 - val_loss: 0.0874 - val_accuracy: 0.9828\n",
      "Epoch 22/50\n",
      "9/9 - 0s - loss: 0.1101 - accuracy: 0.9660 - val_loss: 0.1226 - val_accuracy: 0.9914\n",
      "Epoch 23/50\n",
      "9/9 - 0s - loss: 0.1064 - accuracy: 0.9660 - val_loss: 0.1332 - val_accuracy: 0.9741\n",
      "Epoch 24/50\n",
      "9/9 - 0s - loss: 0.1065 - accuracy: 0.9702 - val_loss: 0.0842 - val_accuracy: 0.9914\n",
      "Epoch 25/50\n",
      "9/9 - 0s - loss: 0.1006 - accuracy: 0.9745 - val_loss: 0.1278 - val_accuracy: 0.9741\n",
      "Epoch 26/50\n",
      "9/9 - 0s - loss: 0.0984 - accuracy: 0.9830 - val_loss: 0.1007 - val_accuracy: 0.9914\n",
      "Epoch 27/50\n",
      "9/9 - 0s - loss: 0.0931 - accuracy: 0.9702 - val_loss: 0.0786 - val_accuracy: 0.9914\n",
      "Epoch 28/50\n",
      "9/9 - 0s - loss: 0.0929 - accuracy: 0.9702 - val_loss: 0.1214 - val_accuracy: 0.9741\n",
      "Epoch 29/50\n",
      "9/9 - 0s - loss: 0.0968 - accuracy: 0.9617 - val_loss: 0.1040 - val_accuracy: 0.9914\n",
      "Epoch 30/50\n",
      "9/9 - 0s - loss: 0.0879 - accuracy: 0.9787 - val_loss: 0.0923 - val_accuracy: 0.9914\n",
      "Epoch 31/50\n",
      "9/9 - 0s - loss: 0.0822 - accuracy: 0.9787 - val_loss: 0.0875 - val_accuracy: 0.9914\n",
      "Epoch 32/50\n",
      "9/9 - 0s - loss: 0.0809 - accuracy: 0.9787 - val_loss: 0.0822 - val_accuracy: 0.9914\n",
      "Epoch 33/50\n",
      "9/9 - 0s - loss: 0.0797 - accuracy: 0.9787 - val_loss: 0.0983 - val_accuracy: 0.9914\n",
      "Epoch 34/50\n",
      "9/9 - 0s - loss: 0.0864 - accuracy: 0.9745 - val_loss: 0.0817 - val_accuracy: 0.9914\n",
      "Epoch 35/50\n",
      "9/9 - 0s - loss: 0.0747 - accuracy: 0.9787 - val_loss: 0.0926 - val_accuracy: 0.9914\n",
      "Epoch 36/50\n",
      "9/9 - 0s - loss: 0.0753 - accuracy: 0.9830 - val_loss: 0.0897 - val_accuracy: 0.9828\n",
      "Epoch 37/50\n",
      "9/9 - 0s - loss: 0.0730 - accuracy: 0.9787 - val_loss: 0.0824 - val_accuracy: 0.9914\n",
      "Epoch 38/50\n",
      "9/9 - 0s - loss: 0.0702 - accuracy: 0.9787 - val_loss: 0.0753 - val_accuracy: 0.9914\n",
      "Epoch 39/50\n",
      "9/9 - 0s - loss: 0.0743 - accuracy: 0.9830 - val_loss: 0.0911 - val_accuracy: 0.9914\n",
      "Epoch 40/50\n",
      "9/9 - 0s - loss: 0.0681 - accuracy: 0.9830 - val_loss: 0.0749 - val_accuracy: 0.9914\n",
      "Epoch 41/50\n",
      "9/9 - 0s - loss: 0.0708 - accuracy: 0.9787 - val_loss: 0.0854 - val_accuracy: 0.9914\n",
      "Epoch 42/50\n",
      "9/9 - 0s - loss: 0.0657 - accuracy: 0.9830 - val_loss: 0.0724 - val_accuracy: 0.9914\n",
      "Epoch 43/50\n",
      "9/9 - 0s - loss: 0.0699 - accuracy: 0.9830 - val_loss: 0.0758 - val_accuracy: 0.9914\n",
      "Epoch 44/50\n",
      "9/9 - 0s - loss: 0.0683 - accuracy: 0.9830 - val_loss: 0.0829 - val_accuracy: 0.9914\n",
      "Epoch 45/50\n",
      "9/9 - 0s - loss: 0.0701 - accuracy: 0.9787 - val_loss: 0.0671 - val_accuracy: 0.9914\n",
      "Epoch 46/50\n",
      "9/9 - 0s - loss: 0.0624 - accuracy: 0.9830 - val_loss: 0.0808 - val_accuracy: 0.9914\n",
      "Epoch 47/50\n",
      "9/9 - 0s - loss: 0.0604 - accuracy: 0.9872 - val_loss: 0.0618 - val_accuracy: 0.9914\n",
      "Epoch 48/50\n",
      "9/9 - 0s - loss: 0.0615 - accuracy: 0.9830 - val_loss: 0.0680 - val_accuracy: 0.9914\n",
      "Epoch 49/50\n",
      "9/9 - 0s - loss: 0.0585 - accuracy: 0.9872 - val_loss: 0.0769 - val_accuracy: 0.9914\n",
      "Epoch 50/50\n",
      "9/9 - 0s - loss: 0.0570 - accuracy: 0.9872 - val_loss: 0.0649 - val_accuracy: 0.9914\n"
     ]
    },
    {
     "data": {
      "text/plain": [
       "<tensorflow.python.keras.callbacks.History at 0x7f611cd40208>"
      ]
     },
     "execution_count": 2,
     "metadata": {},
     "output_type": "execute_result"
    }
   ],
   "source": [
    "# Fit the model\n",
    "model.fit(X, Y, validation_split=0.33, epochs=epochs, batch_size=28, verbose=2)"
   ]
  },
  {
   "cell_type": "markdown",
   "metadata": {},
   "source": [
    "## Drop-Based Learning Rate Schedule"
   ]
  },
  {
   "cell_type": "markdown",
   "metadata": {},
   "source": []
  },
  {
   "cell_type": "markdown",
   "metadata": {},
   "source": [
    "Another popular learning rate schedule used with deep learning models is to drop the learning rate at specific times during training systematically. Often this method is implemented by dropping the learning rate by half every fixed number of epochs. For example, we may have an initial learning rate of 0.1 and drop it by a factor of 0.5 every ten epochs. The fixed ten epochs of training would use a value of 0.1, in the next ten epochs, a learning rate of 0.05 would be used, and so on. If we plot out the learning rates for this example out to 100 epochs, you get the graph below-showing learning rate (y-axis) versus epoch (x-axis).\n",
    "\n",
    "![Learning Rate Scheduke](../../images/learning_rate_schedule.png)\n",
    "\n",
    "We can implement this in Keras using the `LearningRateScheduler` callback when fitting the model. The `LearningRateScheduler` callback allows us to define a function to call that takes the epoch number as an argument and returns the learning rate to use in stochastic gradient descent. When used, the learning rate specified by stochastic gradient descent is ignored. In the code below, we use the same example as a single hidden layer network on the Ionosphere dataset. A new `step_decay()` function is defined that implements the equation:\n",
    "\n",
    "$$ LearningRate=InitialLearningRate \\times {DropRate}^{floor(\\frac{1+Epoch}{EpochDrop})} $$\n",
    "\n",
    "`InitialLearningRate` is the learning rate at the beginning of the run, `EpochDrop` is how often the learning rate is dropped in epochs, and `DropRate` is how much to drop the learning rate each time it is dropped."
   ]
  },
  {
   "cell_type": "code",
   "execution_count": 4,
   "metadata": {},
   "outputs": [],
   "source": [
    "# Drop-Based Learning Rate Decay\n",
    "from pandas import read_csv\n",
    "import numpy\n",
    "import math\n",
    "\n",
    "from tensorflow.keras.models import Sequential\n",
    "from tensorflow.keras.layers import Dense\n",
    "from tensorflow.keras.optimizers import SGD\n",
    "from tensorflow.keras.callbacks import LearningRateScheduler\n",
    "\n",
    "from sklearn.preprocessing import LabelEncoder\n",
    "\n",
    "# learning rate schedule\n",
    "def step_decay(epoch):\n",
    "    initial_lrate = 0.1\n",
    "    drop = 0.5\n",
    "    epochs_drop = 10.0\n",
    "    lrate = initial_lrate * math.pow(drop, math.floor((1+epoch)/epochs_drop))\n",
    "    return lrate\n",
    "\n",
    "# fix random seed for reproducibility\n",
    "seed = 7\n",
    "numpy.random.seed(seed)\n",
    "\n",
    "# load dataset\n",
    "dataframe = read_csv(\"../../datasets/ionosphere.csv\", header=None)\n",
    "dataset = dataframe.values\n",
    "\n",
    "# split into input (X) and output (Y) variables\n",
    "X = dataset[:,0:34].astype(float)\n",
    "Y = dataset[:,34]\n",
    "\n",
    "# encode class values as integers\n",
    "encoder = LabelEncoder()\n",
    "encoder.fit(Y)\n",
    "Y = encoder.transform(Y)\n",
    "\n",
    "# create model\n",
    "model = Sequential()\n",
    "model.add(Dense(34, input_dim=34, kernel_initializer='normal', activation='relu'))\n",
    "model.add(Dense(1, kernel_initializer='normal', activation='sigmoid'))\n",
    "\n",
    "# Compile model\n",
    "sgd = SGD(lr=0.0, momentum=0.9, decay=0.0, nesterov=False)\n",
    "model.compile(loss='binary_crossentropy', optimizer=sgd, metrics=['accuracy'])\n",
    "\n",
    "# learning schedule callback\n",
    "lrate = LearningRateScheduler(step_decay)\n",
    "callbacks_list = [lrate]"
   ]
  },
  {
   "cell_type": "markdown",
   "metadata": {},
   "source": [
    "Running the example results in a classification accuracy of 99.14% on the validation dataset, again an improvement over the baseline for the model on this dataset."
   ]
  },
  {
   "cell_type": "code",
   "execution_count": 5,
   "metadata": {},
   "outputs": [
    {
     "name": "stdout",
     "output_type": "stream",
     "text": [
      "Epoch 1/50\n",
      "9/9 - 0s - loss: 0.6861 - accuracy: 0.5702 - val_loss: 0.6441 - val_accuracy: 0.9138\n",
      "Epoch 2/50\n",
      "9/9 - 0s - loss: 0.6358 - accuracy: 0.7191 - val_loss: 0.5052 - val_accuracy: 0.8793\n",
      "Epoch 3/50\n",
      "9/9 - 0s - loss: 0.5159 - accuracy: 0.7915 - val_loss: 0.3953 - val_accuracy: 0.9224\n",
      "Epoch 4/50\n",
      "9/9 - 0s - loss: 0.3863 - accuracy: 0.8468 - val_loss: 0.2786 - val_accuracy: 0.9138\n",
      "Epoch 5/50\n",
      "9/9 - 0s - loss: 0.2951 - accuracy: 0.8936 - val_loss: 0.6178 - val_accuracy: 0.5345\n",
      "Epoch 6/50\n",
      "9/9 - 0s - loss: 0.2736 - accuracy: 0.8979 - val_loss: 0.1888 - val_accuracy: 0.9397\n",
      "Epoch 7/50\n",
      "9/9 - 0s - loss: 0.1902 - accuracy: 0.9234 - val_loss: 0.1430 - val_accuracy: 0.9741\n",
      "Epoch 8/50\n",
      "9/9 - 0s - loss: 0.1541 - accuracy: 0.9447 - val_loss: 0.1598 - val_accuracy: 0.9569\n",
      "Epoch 9/50\n",
      "9/9 - 0s - loss: 0.1390 - accuracy: 0.9617 - val_loss: 0.1454 - val_accuracy: 0.9569\n",
      "Epoch 10/50\n",
      "9/9 - 0s - loss: 0.1245 - accuracy: 0.9617 - val_loss: 0.1018 - val_accuracy: 0.9828\n",
      "Epoch 11/50\n",
      "9/9 - 0s - loss: 0.1236 - accuracy: 0.9532 - val_loss: 0.1164 - val_accuracy: 0.9914\n",
      "Epoch 12/50\n",
      "9/9 - 0s - loss: 0.1062 - accuracy: 0.9745 - val_loss: 0.1050 - val_accuracy: 0.9914\n",
      "Epoch 13/50\n",
      "9/9 - 0s - loss: 0.1006 - accuracy: 0.9702 - val_loss: 0.0925 - val_accuracy: 0.9828\n",
      "Epoch 14/50\n",
      "9/9 - 0s - loss: 0.0978 - accuracy: 0.9745 - val_loss: 0.0929 - val_accuracy: 0.9828\n",
      "Epoch 15/50\n",
      "9/9 - 0s - loss: 0.0936 - accuracy: 0.9787 - val_loss: 0.0942 - val_accuracy: 0.9828\n",
      "Epoch 16/50\n",
      "9/9 - 0s - loss: 0.0883 - accuracy: 0.9787 - val_loss: 0.0875 - val_accuracy: 0.9828\n",
      "Epoch 17/50\n",
      "9/9 - 0s - loss: 0.0836 - accuracy: 0.9787 - val_loss: 0.0866 - val_accuracy: 0.9828\n",
      "Epoch 18/50\n",
      "9/9 - 0s - loss: 0.0827 - accuracy: 0.9830 - val_loss: 0.0826 - val_accuracy: 0.9828\n",
      "Epoch 19/50\n",
      "9/9 - 0s - loss: 0.0789 - accuracy: 0.9830 - val_loss: 0.0721 - val_accuracy: 0.9828\n",
      "Epoch 20/50\n",
      "9/9 - 0s - loss: 0.0741 - accuracy: 0.9830 - val_loss: 0.0876 - val_accuracy: 0.9828\n",
      "Epoch 21/50\n",
      "9/9 - 0s - loss: 0.0746 - accuracy: 0.9830 - val_loss: 0.0878 - val_accuracy: 0.9828\n",
      "Epoch 22/50\n",
      "9/9 - 0s - loss: 0.0730 - accuracy: 0.9830 - val_loss: 0.0821 - val_accuracy: 0.9828\n",
      "Epoch 23/50\n",
      "9/9 - 0s - loss: 0.0709 - accuracy: 0.9830 - val_loss: 0.0706 - val_accuracy: 0.9828\n",
      "Epoch 24/50\n",
      "9/9 - 0s - loss: 0.0710 - accuracy: 0.9830 - val_loss: 0.0778 - val_accuracy: 0.9828\n",
      "Epoch 25/50\n",
      "9/9 - 0s - loss: 0.0691 - accuracy: 0.9830 - val_loss: 0.0779 - val_accuracy: 0.9828\n",
      "Epoch 26/50\n",
      "9/9 - 0s - loss: 0.0692 - accuracy: 0.9830 - val_loss: 0.0818 - val_accuracy: 0.9828\n",
      "Epoch 27/50\n",
      "9/9 - 0s - loss: 0.0702 - accuracy: 0.9830 - val_loss: 0.0668 - val_accuracy: 0.9828\n",
      "Epoch 28/50\n",
      "9/9 - 0s - loss: 0.0666 - accuracy: 0.9830 - val_loss: 0.0838 - val_accuracy: 0.9828\n",
      "Epoch 29/50\n",
      "9/9 - 0s - loss: 0.0668 - accuracy: 0.9830 - val_loss: 0.0803 - val_accuracy: 0.9828\n",
      "Epoch 30/50\n",
      "9/9 - 0s - loss: 0.0638 - accuracy: 0.9830 - val_loss: 0.0638 - val_accuracy: 0.9828\n",
      "Epoch 31/50\n",
      "9/9 - 0s - loss: 0.0651 - accuracy: 0.9830 - val_loss: 0.0650 - val_accuracy: 0.9828\n",
      "Epoch 32/50\n",
      "9/9 - 0s - loss: 0.0628 - accuracy: 0.9830 - val_loss: 0.0728 - val_accuracy: 0.9914\n",
      "Epoch 33/50\n",
      "9/9 - 0s - loss: 0.0619 - accuracy: 0.9830 - val_loss: 0.0746 - val_accuracy: 0.9914\n",
      "Epoch 34/50\n",
      "9/9 - 0s - loss: 0.0616 - accuracy: 0.9830 - val_loss: 0.0731 - val_accuracy: 0.9914\n",
      "Epoch 35/50\n",
      "9/9 - 0s - loss: 0.0611 - accuracy: 0.9830 - val_loss: 0.0701 - val_accuracy: 0.9914\n",
      "Epoch 36/50\n",
      "9/9 - 0s - loss: 0.0607 - accuracy: 0.9830 - val_loss: 0.0670 - val_accuracy: 0.9828\n",
      "Epoch 37/50\n",
      "9/9 - 0s - loss: 0.0602 - accuracy: 0.9830 - val_loss: 0.0706 - val_accuracy: 0.9828\n",
      "Epoch 38/50\n",
      "9/9 - 0s - loss: 0.0599 - accuracy: 0.9830 - val_loss: 0.0773 - val_accuracy: 0.9914\n",
      "Epoch 39/50\n",
      "9/9 - 0s - loss: 0.0598 - accuracy: 0.9830 - val_loss: 0.0719 - val_accuracy: 0.9914\n",
      "Epoch 40/50\n",
      "9/9 - 0s - loss: 0.0589 - accuracy: 0.9830 - val_loss: 0.0707 - val_accuracy: 0.9914\n",
      "Epoch 41/50\n",
      "9/9 - 0s - loss: 0.0587 - accuracy: 0.9830 - val_loss: 0.0715 - val_accuracy: 0.9914\n",
      "Epoch 42/50\n",
      "9/9 - 0s - loss: 0.0583 - accuracy: 0.9830 - val_loss: 0.0688 - val_accuracy: 0.9914\n",
      "Epoch 43/50\n",
      "9/9 - 0s - loss: 0.0585 - accuracy: 0.9830 - val_loss: 0.0677 - val_accuracy: 0.9914\n",
      "Epoch 44/50\n",
      "9/9 - 0s - loss: 0.0580 - accuracy: 0.9830 - val_loss: 0.0703 - val_accuracy: 0.9914\n",
      "Epoch 45/50\n",
      "9/9 - 0s - loss: 0.0577 - accuracy: 0.9830 - val_loss: 0.0711 - val_accuracy: 0.9914\n",
      "Epoch 46/50\n",
      "9/9 - 0s - loss: 0.0575 - accuracy: 0.9872 - val_loss: 0.0708 - val_accuracy: 0.9914\n",
      "Epoch 47/50\n",
      "9/9 - 0s - loss: 0.0573 - accuracy: 0.9872 - val_loss: 0.0704 - val_accuracy: 0.9914\n",
      "Epoch 48/50\n",
      "9/9 - 0s - loss: 0.0573 - accuracy: 0.9830 - val_loss: 0.0684 - val_accuracy: 0.9914\n",
      "Epoch 49/50\n",
      "9/9 - 0s - loss: 0.0570 - accuracy: 0.9830 - val_loss: 0.0686 - val_accuracy: 0.9914\n",
      "Epoch 50/50\n",
      "9/9 - 0s - loss: 0.0573 - accuracy: 0.9872 - val_loss: 0.0711 - val_accuracy: 0.9914\n"
     ]
    },
    {
     "data": {
      "text/plain": [
       "<tensorflow.python.keras.callbacks.History at 0x7f611cd40cf8>"
      ]
     },
     "execution_count": 5,
     "metadata": {},
     "output_type": "execute_result"
    }
   ],
   "source": [
    "# Fit the model\n",
    "model.fit(X, Y, validation_split=0.33, epochs=50, batch_size=28, callbacks=callbacks_list,\n",
    "verbose=2)"
   ]
  },
  {
   "cell_type": "markdown",
   "metadata": {},
   "source": [
    "## Tips for Using Learning Rate Schedules"
   ]
  },
  {
   "cell_type": "markdown",
   "metadata": {},
   "source": [
    "This section lists some tips and tricks to consider when using learning rate schedules with neural networks.\n",
    "\n",
    "* **Increase the initial learning rate**: Because the learning rate will decrease, start with a larger value to decrease from. A larger learning rate will result in much larger changes to the weights, at least in the beginning, allowing you to benefit from fine-tuning later.\n",
    "* **Use a large momentum**: Using a larger momentum value will help the optimization algorithm continue to make updates in the right direction when your learning rate shrinks to small values.\n",
    "* **Experiment with schedules**: It will not be clear which learning rate schedule to use, so try a few with different configuration options and see what works best on your problem. Also, try schedules that change exponentially and even schedules that respond to your model's accuracy on the training or test datasets."
   ]
  },
  {
   "cell_type": "markdown",
   "metadata": {},
   "source": [
    "## Summary"
   ]
  },
  {
   "cell_type": "markdown",
   "metadata": {},
   "source": [
    "In this lesson, you discovered learning rate schedules for training neural network models. You learned:\n",
    "\n",
    "* The benefits of using learning rate schedules during training to lift model performance.\n",
    "* How to configure and use a time-based learning rate schedule in Keras.\n",
    "* How to develop your drop-based learning rate schedule in Keras."
   ]
  },
  {
   "cell_type": "markdown",
   "metadata": {},
   "source": [
    "### Next"
   ]
  },
  {
   "cell_type": "markdown",
   "metadata": {},
   "source": [
    "This concludes the lessons for Part IV. Now you know how to use more advanced features of Keras and more advanced techniques to get improved performance from your neural network models. Next, in Part V, you will discover a new type of model called the convolutional neural network that is achieving state-of-the-art results in computer vision and natural language processing problems."
   ]
  },
  {
   "cell_type": "code",
   "execution_count": null,
   "metadata": {},
   "outputs": [],
   "source": []
  }
 ],
 "metadata": {
  "kernelspec": {
   "display_name": "Python 3",
   "language": "python",
   "name": "python3"
  },
  "language_info": {
   "codemirror_mode": {
    "name": "ipython",
    "version": 3
   },
   "file_extension": ".py",
   "mimetype": "text/x-python",
   "name": "python",
   "nbconvert_exporter": "python",
   "pygments_lexer": "ipython3",
   "version": "3.6.9"
  }
 },
 "nbformat": 4,
 "nbformat_minor": 2
}
